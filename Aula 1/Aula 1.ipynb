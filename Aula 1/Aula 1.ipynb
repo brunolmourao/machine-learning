{
 "cells": [
  {
   "cell_type": "code",
   "execution_count": 4,
   "metadata": {},
   "outputs": [],
   "source": [
    "import numpy as np\n",
    "import pandas as pd\n",
    "import matplotlib.pyplot as plt"
   ]
  },
  {
   "cell_type": "code",
   "execution_count": 2,
   "metadata": {},
   "outputs": [],
   "source": [
    "arquivo =  pd.read_csv('ex1.csv',header=None,names=['x','y'])"
   ]
  },
  {
   "cell_type": "code",
   "execution_count": 8,
   "metadata": {},
   "outputs": [
    {
     "name": "stdout",
     "output_type": "stream",
     "text": [
      "0.8031542697704028\n",
      "0.009722641160829106\n"
     ]
    },
    {
     "data": {
      "text/plain": [
       "[<matplotlib.lines.Line2D at 0x7f86ca166080>]"
      ]
     },
     "execution_count": 8,
     "metadata": {},
     "output_type": "execute_result"
    },
    {
     "data": {
      "image/png": "[encoded data removed]",
      "text/plain": [
       "<Figure size 432x288 with 1 Axes>"
      ]
     },
     "metadata": {
      "needs_background": "light"
     },
     "output_type": "display_data"
    }
   ],
   "source": [
    "#Univariada  Gradiente Descendente\n",
    "alfa = 0.001\n",
    "w0 = 0\n",
    "w1 = 0\n",
    "N = arquivo.shape[0]-1\n",
    "\n",
    "mse = []\n",
    "for epoch in range (100):\n",
    "    y_pred = passo(N,arquivo,w0,w1)\n",
    "    e = calc_error(y_pred,N,arquivo)\n",
    "    ex = calc_errorx(y_pred,N,arquivo)\n",
    "    w0 = w0 + (alfa * e)/N\n",
    "    w1 = w1 + (alfa * ex)/N \n",
    "    mse.append(np.mean(e**2))\n",
    "print(w1)\n",
    "print(w0)\n",
    "plt.plot(mse)"
   ]
  },
  {
   "cell_type": "code",
   "execution_count": 20,
   "metadata": {},
   "outputs": [
    {
     "data": {
      "text/plain": [
       "[<matplotlib.lines.Line2D at 0x7f86c9d5de48>]"
      ]
     },
     "execution_count": 20,
     "metadata": {},
     "output_type": "execute_result"
    },
    {
     "data": {
      "image/png": "[encoded data removed]",
      "text/plain": [
       "<Figure size 432x288 with 1 Axes>"
      ]
     },
     "metadata": {
      "needs_background": "light"
     },
     "output_type": "display_data"
    }
   ],
   "source": [
    "plt.plot(arquivo.values[:,0], arquivo.values[:,1], 'o')\n",
    "plt.plot(arquivo.values[:,0], passo(N+1,arquivo,w0,w1))"
   ]
  },
  {
   "cell_type": "code",
   "execution_count": null,
   "metadata": {},
   "outputs": [],
   "source": []
  },
  {
   "cell_type": "code",
   "execution_count": 5,
   "metadata": {},
   "outputs": [],
   "source": [
    "def calc_error(y_pred,N,arquivo):\n",
    "    e = 0\n",
    "    for i in range (N):\n",
    "        yi = arquivo.iat[i,1]\n",
    "        e = e + yi - y_pred[i]\n",
    "    return e\n",
    "\n",
    "def calc_errorx(y_pred,N,arquivo):\n",
    "    e = 0\n",
    "    for i in range (N):\n",
    "        yi = arquivo.iat[i,1]\n",
    "        xi = arquivo.iat[i,0]\n",
    "        e = e + (yi - y_pred[i])*xi\n",
    "    return e\n",
    "\n",
    "def passo(N,arquivo,w0,w1):\n",
    "    y_pred = []\n",
    "    for i in range (N):\n",
    "        xi= arquivo.iat[i,0]\n",
    "        ŷ = w0+w1*xi\n",
    "        y_pred.append(ŷ)\n",
    "    return y_pred"
   ]
  },
  {
   "cell_type": "code",
   "execution_count": 23,
   "metadata": {},
   "outputs": [
    {
     "name": "stdout",
     "output_type": "stream",
     "text": [
      "0.012461220251567264\n",
      "0.8030223106636478\n"
     ]
    }
   ],
   "source": [
    "#Gradiente Estocástico \n",
    "def calc_errorw1(y_pred,N,arquivo,i):\n",
    "    e = 0\n",
    "    yi = arquivo.iat[i,1]\n",
    "    xi = arquivo.iat[i,0]\n",
    "    e = (yi - y_pred[i])*xi\n",
    "    return e\n",
    "def calc_errorw0(y_pred,N,arquivo,i):\n",
    "    e = 0\n",
    "    yi = arquivo.iat[i,1]\n",
    "    e = yi - y_pred[i]\n",
    "    return e\n",
    "alfa = 0.0001\n",
    "w0 = 0\n",
    "w1 = 0\n",
    "N = arquivo.shape[0]-1\n",
    "for epoch in range (10):\n",
    "    y_pred = passo(N,arquivo,w0,w1)\n",
    "    for i in range (N):     \n",
    "        e = calc_errorw0(y_pred,N,arquivo,i)\n",
    "        ex = calc_errorw1(y_pred,N,arquivo,i)\n",
    "        w0 = w0 + (alfa * e)\n",
    "        w1 = w1 + (alfa * ex)\n",
    "print(w0)\n",
    "print(w1)"
   ]
  },
  {
   "cell_type": "code",
   "execution_count": 45,
   "metadata": {},
   "outputs": [],
   "source": [
    "#Lendo Dados como Matriz\n",
    "data_table = pd.read_csv('ex1.csv', header=None)\n",
    "x = data_table.drop(data_table.columns[-1], axis=1).values\n",
    "y = data_table.iloc[:,data_table.columns[-1]].values"
   ]
  },
  {
   "cell_type": "code",
   "execution_count": 46,
   "metadata": {},
   "outputs": [
    {
     "data": {
      "text/plain": [
       "(97, 1)"
      ]
     },
     "execution_count": 46,
     "metadata": {},
     "output_type": "execute_result"
    }
   ],
   "source": [
    "x.shape"
   ]
  },
  {
   "cell_type": "code",
   "execution_count": 47,
   "metadata": {},
   "outputs": [],
   "source": [
    "y = y.reshape(len(y),1)"
   ]
  },
  {
   "cell_type": "code",
   "execution_count": 48,
   "metadata": {},
   "outputs": [
    {
     "data": {
      "text/plain": [
       "97"
      ]
     },
     "execution_count": 48,
     "metadata": {},
     "output_type": "execute_result"
    }
   ],
   "source": [
    "len(y)"
   ]
  },
  {
   "cell_type": "code",
   "execution_count": 49,
   "metadata": {},
   "outputs": [
    {
     "data": {
      "text/plain": [
       "array([[ 6.1101],\n",
       "       [ 5.5277],\n",
       "       [ 8.5186],\n",
       "       [ 7.0032],\n",
       "       [ 5.8598],\n",
       "       [ 8.3829],\n",
       "       [ 7.4764],\n",
       "       [ 8.5781],\n",
       "       [ 6.4862],\n",
       "       [ 5.0546],\n",
       "       [ 5.7107],\n",
       "       [14.164 ],\n",
       "       [ 5.734 ],\n",
       "       [ 8.4084],\n",
       "       [ 5.6407],\n",
       "       [ 5.3794],\n",
       "       [ 6.3654],\n",
       "       [ 5.1301],\n",
       "       [ 6.4296],\n",
       "       [ 7.0708],\n",
       "       [ 6.1891],\n",
       "       [20.27  ],\n",
       "       [ 5.4901],\n",
       "       [ 6.3261],\n",
       "       [ 5.5649],\n",
       "       [18.945 ],\n",
       "       [12.828 ],\n",
       "       [10.957 ],\n",
       "       [13.176 ],\n",
       "       [22.203 ],\n",
       "       [ 5.2524],\n",
       "       [ 6.5894],\n",
       "       [ 9.2482],\n",
       "       [ 5.8918],\n",
       "       [ 8.2111],\n",
       "       [ 7.9334],\n",
       "       [ 8.0959],\n",
       "       [ 5.6063],\n",
       "       [12.836 ],\n",
       "       [ 6.3534],\n",
       "       [ 5.4069],\n",
       "       [ 6.8825],\n",
       "       [11.708 ],\n",
       "       [ 5.7737],\n",
       "       [ 7.8247],\n",
       "       [ 7.0931],\n",
       "       [ 5.0702],\n",
       "       [ 5.8014],\n",
       "       [11.7   ],\n",
       "       [ 5.5416],\n",
       "       [ 7.5402],\n",
       "       [ 5.3077],\n",
       "       [ 7.4239],\n",
       "       [ 7.6031],\n",
       "       [ 6.3328],\n",
       "       [ 6.3589],\n",
       "       [ 6.2742],\n",
       "       [ 5.6397],\n",
       "       [ 9.3102],\n",
       "       [ 9.4536],\n",
       "       [ 8.8254],\n",
       "       [ 5.1793],\n",
       "       [21.279 ],\n",
       "       [14.908 ],\n",
       "       [18.959 ],\n",
       "       [ 7.2182],\n",
       "       [ 8.2951],\n",
       "       [10.236 ],\n",
       "       [ 5.4994],\n",
       "       [20.341 ],\n",
       "       [10.136 ],\n",
       "       [ 7.3345],\n",
       "       [ 6.0062],\n",
       "       [ 7.2259],\n",
       "       [ 5.0269],\n",
       "       [ 6.5479],\n",
       "       [ 7.5386],\n",
       "       [ 5.0365],\n",
       "       [10.274 ],\n",
       "       [ 5.1077],\n",
       "       [ 5.7292],\n",
       "       [ 5.1884],\n",
       "       [ 6.3557],\n",
       "       [ 9.7687],\n",
       "       [ 6.5159],\n",
       "       [ 8.5172],\n",
       "       [ 9.1802],\n",
       "       [ 6.002 ],\n",
       "       [ 5.5204],\n",
       "       [ 5.0594],\n",
       "       [ 5.7077],\n",
       "       [ 7.6366],\n",
       "       [ 5.8707],\n",
       "       [ 5.3054],\n",
       "       [ 8.2934],\n",
       "       [13.394 ],\n",
       "       [ 5.4369]])"
      ]
     },
     "execution_count": 49,
     "metadata": {},
     "output_type": "execute_result"
    }
   ],
   "source": [
    "x"
   ]
  },
  {
   "cell_type": "code",
   "execution_count": 35,
   "metadata": {},
   "outputs": [
    {
     "data": {
      "text/plain": [
       "(97,)"
      ]
     },
     "execution_count": 35,
     "metadata": {},
     "output_type": "execute_result"
    }
   ],
   "source": [
    "vetorW = np.zeros(x.shape[0])\n",
    "#vetorW = vetorW.reshape(len(vetorW),1)\n",
    "vetorW.shape"
   ]
  },
  {
   "cell_type": "code",
   "execution_count": 43,
   "metadata": {},
   "outputs": [
    {
     "name": "stderr",
     "output_type": "stream",
     "text": [
      "/home/362953/miniconda2/envs/ML/lib/python3.7/site-packages/ipykernel_launcher.py:6: RuntimeWarning: overflow encountered in square\n",
      "  \n"
     ]
    },
    {
     "data": {
      "text/plain": [
       "array([[ 1.,  1.,  1., ..., inf, inf, inf],\n",
       "       [ 1.,  1.,  1., ..., inf, inf, inf],\n",
       "       [ 1.,  1.,  1., ..., inf, inf, inf],\n",
       "       ...,\n",
       "       [ 1.,  1.,  1., ..., inf, inf, inf],\n",
       "       [ 1.,  1.,  1., ..., inf, inf, inf],\n",
       "       [ 1.,  1.,  1., ..., inf, inf, inf]])"
      ]
     },
     "execution_count": 43,
     "metadata": {},
     "output_type": "execute_result"
    }
   ],
   "source": [
    "#Regressao Polinomial \n",
    "P =2\n",
    "alfa = 0.00001\n",
    "            \n",
    "if P > 1:\n",
    "    x_matrix = criar_regressores(x,P)\n",
    "#for epocas in range(100):\n",
    "   # error = y - x_matrix @ vetorW\n",
    "    #vetorW += alfa * np.mean(error[:, None] * x, axis=0)  "
   ]
  },
  {
   "cell_type": "code",
   "execution_count": 36,
   "metadata": {},
   "outputs": [],
   "source": [
    "def criar_regressores(x,P):\n",
    "    regressors = np.hstack((np.ones((x.shape[0], 1)), x))\n",
    "    \n",
    "    if P > 1:\n",
    "        for i in range(2,P+1):        \n",
    "            regressors = np.hstack((regressors, x**i))        \n",
    "    return regressors\n",
    "    "
   ]
  },
  {
   "cell_type": "code",
   "execution_count": 19,
   "metadata": {},
   "outputs": [
    {
     "name": "stdout",
     "output_type": "stream",
     "text": [
      "0.4501480444823226\n",
      "0.037951902486765214\n"
     ]
    }
   ],
   "source": [
    "#Regressão Logística \n",
    "Gradiente Descendente\n",
    "alfa = 0.0001\n",
    "w0 = 0\n",
    "w1 = 0\n",
    "N = arquivo.shape[0]-1\n",
    "\n",
    "for epoch in range (100):\n",
    "    y_pred = passo(N,arquivo,w0,w1)\n",
    "    e = calc_error(y_pred,N,arquivo)\n",
    "    ex = calc_errorx(y_pred,N,arquivo)\n",
    "    w0 = w0 + (alfa * e)/N\n",
    "    w1 = w1 + (alfa * ex)/N \n",
    "print(w1)\n",
    "print(w0)"
   ]
  },
  {
   "cell_type": "code",
   "execution_count": null,
   "metadata": {},
   "outputs": [],
   "source": [
    "def calc_logistica(y):\n",
    "    "
   ]
  }
 ],
 "metadata": {
  "kernelspec": {
   "display_name": "Python 3",
   "language": "python",
   "name": "python3"
  },
  "language_info": {
   "codemirror_mode": {
    "name": "ipython",
    "version": 3
   },
   "file_extension": ".py",
   "mimetype": "text/x-python",
   "name": "python",
   "nbconvert_exporter": "python",
   "pygments_lexer": "ipython3",
   "version": "3.7.2"
  }
 },
 "nbformat": 4,
 "nbformat_minor": 2
}

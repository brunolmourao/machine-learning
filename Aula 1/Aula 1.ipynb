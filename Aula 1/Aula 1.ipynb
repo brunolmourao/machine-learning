{
 "cells": [
  {
   "cell_type": "code",
   "execution_count": 1,
   "metadata": {},
   "outputs": [],
   "source": [
    "import numpy as np\n",
    "import pandas as pd\n",
    "import matplotlib.pyplot as plt"
   ]
  },
  {
   "cell_type": "code",
   "execution_count": 2,
   "metadata": {},
   "outputs": [],
   "source": [
    "arquivo =  pd.read_csv('ex1.csv',header=None,names=['x','y'])"
   ]
  },
  {
   "cell_type": "code",
   "execution_count": 5,
   "metadata": {},
   "outputs": [
    {
     "name": "stdout",
     "output_type": "stream",
     "text": [
      "0.8031542697704028\n",
      "0.009722641160829106\n"
     ]
    },
    {
     "data": {
      "text/plain": [
       "[<matplotlib.lines.Line2D at 0x7f7de03d2b00>]"
      ]
     },
     "execution_count": 5,
     "metadata": {},
     "output_type": "execute_result"
    },
    {
     "data": {
      "image/png": "[encoded data removed]",
      "text/plain": [
       "<Figure size 432x288 with 1 Axes>"
      ]
     },
     "metadata": {
      "needs_background": "light"
     },
     "output_type": "display_data"
    }
   ],
   "source": [
    "#Univariada  Gradiente Descendente\n",
    "alfa = 0.001\n",
    "w0 = 0\n",
    "w1 = 0\n",
    "N = arquivo.shape[0]-1\n",
    "\n",
    "mse = []\n",
    "for epoch in range (100):\n",
    "    y_pred = passo(N,arquivo,w0,w1)\n",
    "    e = calc_error(y_pred,N,arquivo)\n",
    "    ex = calc_errorx(y_pred,N,arquivo)\n",
    "    w0 = w0 + (alfa * e)/N\n",
    "    w1 = w1 + (alfa * ex)/N \n",
    "    mse.append(np.mean(e**2))\n",
    "print(w1)\n",
    "print(w0)\n",
    "plt.plot(mse)"
   ]
  },
  {
   "cell_type": "code",
   "execution_count": 20,
   "metadata": {},
   "outputs": [
    {
     "data": {
      "text/plain": [
       "[<matplotlib.lines.Line2D at 0x7f86c9d5de48>]"
      ]
     },
     "execution_count": 20,
     "metadata": {},
     "output_type": "execute_result"
    },
    {
     "data": {
      "image/png": "[encoded data removed]",
      "text/plain": [
       "<Figure size 432x288 with 1 Axes>"
      ]
     },
     "metadata": {
      "needs_background": "light"
     },
     "output_type": "display_data"
    }
   ],
   "source": [
    "plt.plot(arquivo.values[:,0], arquivo.values[:,1], 'o')\n",
    "plt.plot(arquivo.values[:,0], passo(N+1,arquivo,w0,w1))"
   ]
  },
  {
   "cell_type": "code",
   "execution_count": null,
   "metadata": {},
   "outputs": [],
   "source": []
  },
  {
   "cell_type": "code",
   "execution_count": 4,
   "metadata": {},
   "outputs": [],
   "source": [
    "def calc_error(y_pred,N,arquivo):\n",
    "    e = 0\n",
    "    for i in range (N):\n",
    "        yi = arquivo.iat[i,1]\n",
    "        e = e + yi - y_pred[i]\n",
    "    return e\n",
    "\n",
    "def calc_errorx(y_pred,N,arquivo):\n",
    "    e = 0\n",
    "    for i in range (N):\n",
    "        yi = arquivo.iat[i,1]\n",
    "        xi = arquivo.iat[i,0]\n",
    "        e = e + (yi - y_pred[i])*xi\n",
    "    return e\n",
    "\n",
    "def passo(N,arquivo,w0,w1):\n",
    "    y_pred = []\n",
    "    for i in range (N):\n",
    "        xi= arquivo.iat[i,0]\n",
    "        ŷ = w0+w1*xi\n",
    "        y_pred.append(ŷ)\n",
    "    return y_pred"
   ]
  },
  {
   "cell_type": "code",
   "execution_count": 6,
   "metadata": {},
   "outputs": [
    {
     "name": "stdout",
     "output_type": "stream",
     "text": [
      "0.012461220251567264\n",
      "0.8030223106636478\n"
     ]
    }
   ],
   "source": [
    "#Gradiente Estocástico \n",
    "def calc_errorw1(y_pred,N,arquivo,i):\n",
    "    e = 0\n",
    "    yi = arquivo.iat[i,1]\n",
    "    xi = arquivo.iat[i,0]\n",
    "    e = (yi - y_pred[i])*xi\n",
    "    return e\n",
    "def calc_errorw0(y_pred,N,arquivo,i):\n",
    "    e = 0\n",
    "    yi = arquivo.iat[i,1]\n",
    "    e = yi - y_pred[i]\n",
    "    return e\n",
    "alfa = 0.0001\n",
    "w0 = 0\n",
    "w1 = 0\n",
    "N = arquivo.shape[0]-1\n",
    "for epoch in range (10):\n",
    "    y_pred = passo(N,arquivo,w0,w1)\n",
    "    for i in range (N):     \n",
    "        e = calc_errorw0(y_pred,N,arquivo,i)\n",
    "        ex = calc_errorw1(y_pred,N,arquivo,i)\n",
    "        w0 = w0 + (alfa * e)\n",
    "        w1 = w1 + (alfa * ex)\n",
    "print(w0)\n",
    "print(w1)"
   ]
  },
  {
   "cell_type": "code",
   "execution_count": 32,
   "metadata": {},
   "outputs": [
    {
     "data": {
      "text/html": [
       "<div>\n",
       "<style scoped>\n",
       "    .dataframe tbody tr th:only-of-type {\n",
       "        vertical-align: middle;\n",
       "    }\n",
       "\n",
       "    .dataframe tbody tr th {\n",
       "        vertical-align: top;\n",
       "    }\n",
       "\n",
       "    .dataframe thead th {\n",
       "        text-align: right;\n",
       "    }\n",
       "</style>\n",
       "<table border=\"1\" class=\"dataframe\">\n",
       "  <thead>\n",
       "    <tr style=\"text-align: right;\">\n",
       "      <th></th>\n",
       "      <th>x</th>\n",
       "      <th>y</th>\n",
       "    </tr>\n",
       "  </thead>\n",
       "  <tbody>\n",
       "    <tr>\n",
       "      <th>0</th>\n",
       "      <td>6.1101</td>\n",
       "      <td>17.59200</td>\n",
       "    </tr>\n",
       "    <tr>\n",
       "      <th>1</th>\n",
       "      <td>5.5277</td>\n",
       "      <td>9.13020</td>\n",
       "    </tr>\n",
       "    <tr>\n",
       "      <th>2</th>\n",
       "      <td>8.5186</td>\n",
       "      <td>13.66200</td>\n",
       "    </tr>\n",
       "    <tr>\n",
       "      <th>3</th>\n",
       "      <td>7.0032</td>\n",
       "      <td>11.85400</td>\n",
       "    </tr>\n",
       "    <tr>\n",
       "      <th>4</th>\n",
       "      <td>5.8598</td>\n",
       "      <td>6.82330</td>\n",
       "    </tr>\n",
       "    <tr>\n",
       "      <th>5</th>\n",
       "      <td>8.3829</td>\n",
       "      <td>11.88600</td>\n",
       "    </tr>\n",
       "    <tr>\n",
       "      <th>6</th>\n",
       "      <td>7.4764</td>\n",
       "      <td>4.34830</td>\n",
       "    </tr>\n",
       "    <tr>\n",
       "      <th>7</th>\n",
       "      <td>8.5781</td>\n",
       "      <td>12.00000</td>\n",
       "    </tr>\n",
       "    <tr>\n",
       "      <th>8</th>\n",
       "      <td>6.4862</td>\n",
       "      <td>6.59870</td>\n",
       "    </tr>\n",
       "    <tr>\n",
       "      <th>9</th>\n",
       "      <td>5.0546</td>\n",
       "      <td>3.81660</td>\n",
       "    </tr>\n",
       "    <tr>\n",
       "      <th>10</th>\n",
       "      <td>5.7107</td>\n",
       "      <td>3.25220</td>\n",
       "    </tr>\n",
       "    <tr>\n",
       "      <th>11</th>\n",
       "      <td>14.1640</td>\n",
       "      <td>15.50500</td>\n",
       "    </tr>\n",
       "    <tr>\n",
       "      <th>12</th>\n",
       "      <td>5.7340</td>\n",
       "      <td>3.15510</td>\n",
       "    </tr>\n",
       "    <tr>\n",
       "      <th>13</th>\n",
       "      <td>8.4084</td>\n",
       "      <td>7.22580</td>\n",
       "    </tr>\n",
       "    <tr>\n",
       "      <th>14</th>\n",
       "      <td>5.6407</td>\n",
       "      <td>0.71618</td>\n",
       "    </tr>\n",
       "    <tr>\n",
       "      <th>15</th>\n",
       "      <td>5.3794</td>\n",
       "      <td>3.51290</td>\n",
       "    </tr>\n",
       "    <tr>\n",
       "      <th>16</th>\n",
       "      <td>6.3654</td>\n",
       "      <td>5.30480</td>\n",
       "    </tr>\n",
       "    <tr>\n",
       "      <th>17</th>\n",
       "      <td>5.1301</td>\n",
       "      <td>0.56077</td>\n",
       "    </tr>\n",
       "    <tr>\n",
       "      <th>18</th>\n",
       "      <td>6.4296</td>\n",
       "      <td>3.65180</td>\n",
       "    </tr>\n",
       "    <tr>\n",
       "      <th>19</th>\n",
       "      <td>7.0708</td>\n",
       "      <td>5.38930</td>\n",
       "    </tr>\n",
       "    <tr>\n",
       "      <th>20</th>\n",
       "      <td>6.1891</td>\n",
       "      <td>3.13860</td>\n",
       "    </tr>\n",
       "    <tr>\n",
       "      <th>21</th>\n",
       "      <td>20.2700</td>\n",
       "      <td>21.76700</td>\n",
       "    </tr>\n",
       "    <tr>\n",
       "      <th>22</th>\n",
       "      <td>5.4901</td>\n",
       "      <td>4.26300</td>\n",
       "    </tr>\n",
       "    <tr>\n",
       "      <th>23</th>\n",
       "      <td>6.3261</td>\n",
       "      <td>5.18750</td>\n",
       "    </tr>\n",
       "    <tr>\n",
       "      <th>24</th>\n",
       "      <td>5.5649</td>\n",
       "      <td>3.08250</td>\n",
       "    </tr>\n",
       "    <tr>\n",
       "      <th>25</th>\n",
       "      <td>18.9450</td>\n",
       "      <td>22.63800</td>\n",
       "    </tr>\n",
       "    <tr>\n",
       "      <th>26</th>\n",
       "      <td>12.8280</td>\n",
       "      <td>13.50100</td>\n",
       "    </tr>\n",
       "    <tr>\n",
       "      <th>27</th>\n",
       "      <td>10.9570</td>\n",
       "      <td>7.04670</td>\n",
       "    </tr>\n",
       "    <tr>\n",
       "      <th>28</th>\n",
       "      <td>13.1760</td>\n",
       "      <td>14.69200</td>\n",
       "    </tr>\n",
       "    <tr>\n",
       "      <th>29</th>\n",
       "      <td>22.2030</td>\n",
       "      <td>24.14700</td>\n",
       "    </tr>\n",
       "    <tr>\n",
       "      <th>...</th>\n",
       "      <td>...</td>\n",
       "      <td>...</td>\n",
       "    </tr>\n",
       "    <tr>\n",
       "      <th>67</th>\n",
       "      <td>10.2360</td>\n",
       "      <td>7.77540</td>\n",
       "    </tr>\n",
       "    <tr>\n",
       "      <th>68</th>\n",
       "      <td>5.4994</td>\n",
       "      <td>1.01730</td>\n",
       "    </tr>\n",
       "    <tr>\n",
       "      <th>69</th>\n",
       "      <td>20.3410</td>\n",
       "      <td>20.99200</td>\n",
       "    </tr>\n",
       "    <tr>\n",
       "      <th>70</th>\n",
       "      <td>10.1360</td>\n",
       "      <td>6.67990</td>\n",
       "    </tr>\n",
       "    <tr>\n",
       "      <th>71</th>\n",
       "      <td>7.3345</td>\n",
       "      <td>4.02590</td>\n",
       "    </tr>\n",
       "    <tr>\n",
       "      <th>72</th>\n",
       "      <td>6.0062</td>\n",
       "      <td>1.27840</td>\n",
       "    </tr>\n",
       "    <tr>\n",
       "      <th>73</th>\n",
       "      <td>7.2259</td>\n",
       "      <td>3.34110</td>\n",
       "    </tr>\n",
       "    <tr>\n",
       "      <th>74</th>\n",
       "      <td>5.0269</td>\n",
       "      <td>-2.68070</td>\n",
       "    </tr>\n",
       "    <tr>\n",
       "      <th>75</th>\n",
       "      <td>6.5479</td>\n",
       "      <td>0.29678</td>\n",
       "    </tr>\n",
       "    <tr>\n",
       "      <th>76</th>\n",
       "      <td>7.5386</td>\n",
       "      <td>3.88450</td>\n",
       "    </tr>\n",
       "    <tr>\n",
       "      <th>77</th>\n",
       "      <td>5.0365</td>\n",
       "      <td>5.70140</td>\n",
       "    </tr>\n",
       "    <tr>\n",
       "      <th>78</th>\n",
       "      <td>10.2740</td>\n",
       "      <td>6.75260</td>\n",
       "    </tr>\n",
       "    <tr>\n",
       "      <th>79</th>\n",
       "      <td>5.1077</td>\n",
       "      <td>2.05760</td>\n",
       "    </tr>\n",
       "    <tr>\n",
       "      <th>80</th>\n",
       "      <td>5.7292</td>\n",
       "      <td>0.47953</td>\n",
       "    </tr>\n",
       "    <tr>\n",
       "      <th>81</th>\n",
       "      <td>5.1884</td>\n",
       "      <td>0.20421</td>\n",
       "    </tr>\n",
       "    <tr>\n",
       "      <th>82</th>\n",
       "      <td>6.3557</td>\n",
       "      <td>0.67861</td>\n",
       "    </tr>\n",
       "    <tr>\n",
       "      <th>83</th>\n",
       "      <td>9.7687</td>\n",
       "      <td>7.54350</td>\n",
       "    </tr>\n",
       "    <tr>\n",
       "      <th>84</th>\n",
       "      <td>6.5159</td>\n",
       "      <td>5.34360</td>\n",
       "    </tr>\n",
       "    <tr>\n",
       "      <th>85</th>\n",
       "      <td>8.5172</td>\n",
       "      <td>4.24150</td>\n",
       "    </tr>\n",
       "    <tr>\n",
       "      <th>86</th>\n",
       "      <td>9.1802</td>\n",
       "      <td>6.79810</td>\n",
       "    </tr>\n",
       "    <tr>\n",
       "      <th>87</th>\n",
       "      <td>6.0020</td>\n",
       "      <td>0.92695</td>\n",
       "    </tr>\n",
       "    <tr>\n",
       "      <th>88</th>\n",
       "      <td>5.5204</td>\n",
       "      <td>0.15200</td>\n",
       "    </tr>\n",
       "    <tr>\n",
       "      <th>89</th>\n",
       "      <td>5.0594</td>\n",
       "      <td>2.82140</td>\n",
       "    </tr>\n",
       "    <tr>\n",
       "      <th>90</th>\n",
       "      <td>5.7077</td>\n",
       "      <td>1.84510</td>\n",
       "    </tr>\n",
       "    <tr>\n",
       "      <th>91</th>\n",
       "      <td>7.6366</td>\n",
       "      <td>4.29590</td>\n",
       "    </tr>\n",
       "    <tr>\n",
       "      <th>92</th>\n",
       "      <td>5.8707</td>\n",
       "      <td>7.20290</td>\n",
       "    </tr>\n",
       "    <tr>\n",
       "      <th>93</th>\n",
       "      <td>5.3054</td>\n",
       "      <td>1.98690</td>\n",
       "    </tr>\n",
       "    <tr>\n",
       "      <th>94</th>\n",
       "      <td>8.2934</td>\n",
       "      <td>0.14454</td>\n",
       "    </tr>\n",
       "    <tr>\n",
       "      <th>95</th>\n",
       "      <td>13.3940</td>\n",
       "      <td>9.05510</td>\n",
       "    </tr>\n",
       "    <tr>\n",
       "      <th>96</th>\n",
       "      <td>5.4369</td>\n",
       "      <td>0.61705</td>\n",
       "    </tr>\n",
       "  </tbody>\n",
       "</table>\n",
       "<p>97 rows × 2 columns</p>\n",
       "</div>"
      ],
      "text/plain": [
       "          x         y\n",
       "0    6.1101  17.59200\n",
       "1    5.5277   9.13020\n",
       "2    8.5186  13.66200\n",
       "3    7.0032  11.85400\n",
       "4    5.8598   6.82330\n",
       "5    8.3829  11.88600\n",
       "6    7.4764   4.34830\n",
       "7    8.5781  12.00000\n",
       "8    6.4862   6.59870\n",
       "9    5.0546   3.81660\n",
       "10   5.7107   3.25220\n",
       "11  14.1640  15.50500\n",
       "12   5.7340   3.15510\n",
       "13   8.4084   7.22580\n",
       "14   5.6407   0.71618\n",
       "15   5.3794   3.51290\n",
       "16   6.3654   5.30480\n",
       "17   5.1301   0.56077\n",
       "18   6.4296   3.65180\n",
       "19   7.0708   5.38930\n",
       "20   6.1891   3.13860\n",
       "21  20.2700  21.76700\n",
       "22   5.4901   4.26300\n",
       "23   6.3261   5.18750\n",
       "24   5.5649   3.08250\n",
       "25  18.9450  22.63800\n",
       "26  12.8280  13.50100\n",
       "27  10.9570   7.04670\n",
       "28  13.1760  14.69200\n",
       "29  22.2030  24.14700\n",
       "..      ...       ...\n",
       "67  10.2360   7.77540\n",
       "68   5.4994   1.01730\n",
       "69  20.3410  20.99200\n",
       "70  10.1360   6.67990\n",
       "71   7.3345   4.02590\n",
       "72   6.0062   1.27840\n",
       "73   7.2259   3.34110\n",
       "74   5.0269  -2.68070\n",
       "75   6.5479   0.29678\n",
       "76   7.5386   3.88450\n",
       "77   5.0365   5.70140\n",
       "78  10.2740   6.75260\n",
       "79   5.1077   2.05760\n",
       "80   5.7292   0.47953\n",
       "81   5.1884   0.20421\n",
       "82   6.3557   0.67861\n",
       "83   9.7687   7.54350\n",
       "84   6.5159   5.34360\n",
       "85   8.5172   4.24150\n",
       "86   9.1802   6.79810\n",
       "87   6.0020   0.92695\n",
       "88   5.5204   0.15200\n",
       "89   5.0594   2.82140\n",
       "90   5.7077   1.84510\n",
       "91   7.6366   4.29590\n",
       "92   5.8707   7.20290\n",
       "93   5.3054   1.98690\n",
       "94   8.2934   0.14454\n",
       "95  13.3940   9.05510\n",
       "96   5.4369   0.61705\n",
       "\n",
       "[97 rows x 2 columns]"
      ]
     },
     "execution_count": 32,
     "metadata": {},
     "output_type": "execute_result"
    }
   ],
   "source": [
    "arquivo\n"
   ]
  },
  {
   "cell_type": "code",
   "execution_count": 22,
   "metadata": {},
   "outputs": [],
   "source": [
    "#Lendo Dados como Matriz\n",
    "data_table = pd.read_csv('ex1.csv', header=None)\n",
    "x = data_table.drop(data_table.columns[-1], axis=1).values\n",
    "y = data_table.iloc[:,data_table.columns[-1]].values"
   ]
  },
  {
   "cell_type": "code",
   "execution_count": 34,
   "metadata": {},
   "outputs": [
    {
     "data": {
      "text/plain": [
       "array([17.592  ,  9.1302 , 13.662  , 11.854  ,  6.8233 , 11.886  ,\n",
       "        4.3483 , 12.     ,  6.5987 ,  3.8166 ,  3.2522 , 15.505  ,\n",
       "        3.1551 ,  7.2258 ,  0.71618,  3.5129 ,  5.3048 ,  0.56077,\n",
       "        3.6518 ,  5.3893 ,  3.1386 , 21.767  ,  4.263  ,  5.1875 ,\n",
       "        3.0825 , 22.638  , 13.501  ,  7.0467 , 14.692  , 24.147  ,\n",
       "       -1.22   ,  5.9966 , 12.134  ,  1.8495 ,  6.5426 ,  4.5623 ,\n",
       "        4.1164 ,  3.3928 , 10.117  ,  5.4974 ,  0.55657,  3.9115 ,\n",
       "        5.3854 ,  2.4406 ,  6.7318 ,  1.0463 ,  5.1337 ,  1.844  ,\n",
       "        8.0043 ,  1.0179 ,  6.7504 ,  1.8396 ,  4.2885 ,  4.9981 ,\n",
       "        1.4233 , -1.4211 ,  2.4756 ,  4.6042 ,  3.9624 ,  5.4141 ,\n",
       "        5.1694 , -0.74279, 17.929  , 12.054  , 17.054  ,  4.8852 ,\n",
       "        5.7442 ,  7.7754 ,  1.0173 , 20.992  ,  6.6799 ,  4.0259 ,\n",
       "        1.2784 ,  3.3411 , -2.6807 ,  0.29678,  3.8845 ,  5.7014 ,\n",
       "        6.7526 ,  2.0576 ,  0.47953,  0.20421,  0.67861,  7.5435 ,\n",
       "        5.3436 ,  4.2415 ,  6.7981 ,  0.92695,  0.152  ,  2.8214 ,\n",
       "        1.8451 ,  4.2959 ,  7.2029 ,  1.9869 ,  0.14454,  9.0551 ,\n",
       "        0.61705])"
      ]
     },
     "execution_count": 34,
     "metadata": {},
     "output_type": "execute_result"
    }
   ],
   "source": [
    "y"
   ]
  },
  {
   "cell_type": "code",
   "execution_count": 24,
   "metadata": {},
   "outputs": [
    {
     "data": {
      "text/plain": [
       "(97,)"
      ]
     },
     "execution_count": 24,
     "metadata": {},
     "output_type": "execute_result"
    }
   ],
   "source": [
    "y.shape"
   ]
  },
  {
   "cell_type": "code",
   "execution_count": 48,
   "metadata": {},
   "outputs": [
    {
     "data": {
      "text/plain": [
       "97"
      ]
     },
     "execution_count": 48,
     "metadata": {},
     "output_type": "execute_result"
    }
   ],
   "source": [
    "len(y)"
   ]
  },
  {
   "cell_type": "code",
   "execution_count": 20,
   "metadata": {},
   "outputs": [],
   "source": []
  },
  {
   "cell_type": "code",
   "execution_count": 21,
   "metadata": {},
   "outputs": [
    {
     "ename": "AttributeError",
     "evalue": "'builtin_function_or_method' object has no attribute 'shape'",
     "output_type": "error",
     "traceback": [
      "\u001b[0;31m---------------------------------------------------------------------------\u001b[0m",
      "\u001b[0;31mAttributeError\u001b[0m                            Traceback (most recent call last)",
      "\u001b[0;32m<ipython-input-21-3d861059fa55>\u001b[0m in \u001b[0;36m<module>\u001b[0;34m\u001b[0m\n\u001b[0;32m----> 1\u001b[0;31m \u001b[0my\u001b[0m\u001b[0;34m.\u001b[0m\u001b[0mshape\u001b[0m\u001b[0;34m\u001b[0m\u001b[0;34m\u001b[0m\u001b[0m\n\u001b[0m",
      "\u001b[0;31mAttributeError\u001b[0m: 'builtin_function_or_method' object has no attribute 'shape'"
     ]
    }
   ],
   "source": [
    "y.shape"
   ]
  },
  {
   "cell_type": "code",
   "execution_count": 39,
   "metadata": {},
   "outputs": [
    {
     "ename": "TypeError",
     "evalue": "unsupported operand type(s) for *: 'float' and 'builtin_function_or_method'",
     "output_type": "error",
     "traceback": [
      "\u001b[0;31m---------------------------------------------------------------------------\u001b[0m",
      "\u001b[0;31mTypeError\u001b[0m                                 Traceback (most recent call last)",
      "\u001b[0;32m<ipython-input-39-d8d87eb6b951>\u001b[0m in \u001b[0;36m<module>\u001b[0;34m\u001b[0m\n\u001b[1;32m     10\u001b[0m \u001b[0mvetorW\u001b[0m \u001b[0;34m=\u001b[0m \u001b[0mvetorW\u001b[0m\u001b[0;34m.\u001b[0m\u001b[0mreshape\u001b[0m\u001b[0;34m(\u001b[0m\u001b[0;36m97\u001b[0m\u001b[0;34m,\u001b[0m\u001b[0;36m1\u001b[0m\u001b[0;34m)\u001b[0m\u001b[0;34m\u001b[0m\u001b[0;34m\u001b[0m\u001b[0m\n\u001b[1;32m     11\u001b[0m \u001b[0;32mfor\u001b[0m \u001b[0mepocas\u001b[0m \u001b[0;32min\u001b[0m \u001b[0mrange\u001b[0m\u001b[0;34m(\u001b[0m\u001b[0;36m100\u001b[0m\u001b[0;34m)\u001b[0m\u001b[0;34m:\u001b[0m\u001b[0;34m\u001b[0m\u001b[0;34m\u001b[0m\u001b[0m\n\u001b[0;32m---> 12\u001b[0;31m     \u001b[0merro\u001b[0m \u001b[0;34m=\u001b[0m \u001b[0my\u001b[0m \u001b[0;34m-\u001b[0m \u001b[0mx_matrix\u001b[0m\u001b[0;34m.\u001b[0m\u001b[0mdot\u001b[0m\u001b[0;34m(\u001b[0m\u001b[0mvetorW\u001b[0m\u001b[0;34m.\u001b[0m\u001b[0mtranspose\u001b[0m\u001b[0;34m)\u001b[0m\u001b[0;34m\u001b[0m\u001b[0;34m\u001b[0m\u001b[0m\n\u001b[0m\u001b[1;32m     13\u001b[0m     \u001b[0;31m#vetorW += alfa * np.mean(error[:, None] * x_matrix, axis=0)\u001b[0m\u001b[0;34m\u001b[0m\u001b[0;34m\u001b[0m\u001b[0;34m\u001b[0m\u001b[0m\n",
      "\u001b[0;31mTypeError\u001b[0m: unsupported operand type(s) for *: 'float' and 'builtin_function_or_method'"
     ]
    }
   ],
   "source": [
    "#Regressao Polinomial \n",
    "P =2\n",
    "alfa = 0.00001\n",
    "            \n",
    "if P > 1:\n",
    "    x_matrix = criar_regressores(x,P)\n",
    "else :\n",
    "    x_matrix = x\n",
    "vetorW = np.zeros(x_matrix.shape[0])\n",
    "vetorW = vetorW.reshape(97,1)\n",
    "for epocas in range(100):\n",
    "    erro = y - x_matrix.dot(vetorW.transpose)\n",
    "    #vetorW += alfa * np.mean(error[:, None] * x_matrix, axis=0)  "
   ]
  },
  {
   "cell_type": "code",
   "execution_count": 13,
   "metadata": {},
   "outputs": [],
   "source": [
    "def criar_regressores(x,P):\n",
    "    regressors = np.hstack((np.ones((x.shape[0], 1)), x))\n",
    "    \n",
    "    if P > 1:\n",
    "        for i in range(2,P+1):        \n",
    "            regressors = np.hstack((regressors, x**i))        \n",
    "    return regressors\n",
    "    "
   ]
  },
  {
   "cell_type": "code",
   "execution_count": 19,
   "metadata": {},
   "outputs": [
    {
     "name": "stdout",
     "output_type": "stream",
     "text": [
      "0.4501480444823226\n",
      "0.037951902486765214\n"
     ]
    }
   ],
   "source": [
    "#Regressão Logística \n",
    "Gradiente Descendente\n",
    "alfa = 0.0001\n",
    "w0 = 0\n",
    "w1 = 0\n",
    "N = arquivo.shape[0]-1\n",
    "\n",
    "for epoch in range (100):\n",
    "    y_pred = passo(N,arquivo,w0,w1)\n",
    "    e = calc_error(y_pred,N,arquivo)\n",
    "    ex = calc_errorx(y_pred,N,arquivo)\n",
    "    w0 = w0 + (alfa * e)/N\n",
    "    w1 = w1 + (alfa * ex)/N \n",
    "print(w1)\n",
    "print(w0)"
   ]
  },
  {
   "cell_type": "code",
   "execution_count": 27,
   "metadata": {},
   "outputs": [],
   "source": [
    "def calc_logistica(y):\n",
    "    return 1/ 1+ np.exp(-y)\n",
    "    "
   ]
  },
  {
   "cell_type": "code",
   "execution_count": 28,
   "metadata": {},
   "outputs": [
    {
     "data": {
      "text/plain": [
       "1.0000453999297625"
      ]
     },
     "execution_count": 28,
     "metadata": {},
     "output_type": "execute_result"
    }
   ],
   "source": [
    "def cal_error_logi():\n",
    "    "
   ]
  },
  {
   "cell_type": "code",
   "execution_count": null,
   "metadata": {},
   "outputs": [],
   "source": []
  }
 ],
 "metadata": {
  "kernelspec": {
   "display_name": "Python 3",
   "language": "python",
   "name": "python3"
  },
  "language_info": {
   "codemirror_mode": {
    "name": "ipython",
    "version": 3
   },
   "file_extension": ".py",
   "mimetype": "text/x-python",
   "name": "python",
   "nbconvert_exporter": "python",
   "pygments_lexer": "ipython3",
   "version": "3.6.8"
  }
 },
 "nbformat": 4,
 "nbformat_minor": 2
}

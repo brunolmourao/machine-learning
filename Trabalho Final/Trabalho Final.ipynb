{
 "cells": [
  {
   "cell_type": "code",
   "execution_count": 1,
   "metadata": {},
   "outputs": [],
   "source": [
    "import numpy as np\n",
    "import pandas as pd\n",
    "import seaborn as sns\n",
    "import logistic_regression as logreg\n",
    "import knn \n",
    "import common as com\n",
    "%matplotlib inline\n",
    "import matplotlib.pyplot as plt\n",
    "from sklearn.tree import DecisionTreeClassifier"
   ]
  },
  {
   "cell_type": "code",
   "execution_count": 2,
   "metadata": {},
   "outputs": [],
   "source": [
    "dataset = pd.read_csv(\"pokemon_alopez247.csv\", na_values = \"?\")"
   ]
  },
  {
   "cell_type": "code",
   "execution_count": 3,
   "metadata": {},
   "outputs": [
    {
     "name": "stdout",
     "output_type": "stream",
     "text": [
      "     Number      Name  Type_1  Type_2  Total   HP  Attack  Defense  Sp_Atk  \\\n",
      "319     320   Wailmer   Water     NaN    400  130      70       35      70   \n",
      "458     459    Snover   Grass     Ice    334   60      62       50      62   \n",
      "338     339  Barboach   Water  Ground    288   50      48       43      46   \n",
      "392     393    Piplup   Water     NaN    314   53      51       53      61   \n",
      "263     264   Linoone  Normal     NaN    420   78      70       61      50   \n",
      "\n",
      "     Sp_Def  ...  Color  hasGender  Pr_Male Egg_Group_1  Egg_Group_2  \\\n",
      "319      35  ...   Blue       True    0.500       Field      Water_2   \n",
      "458      60  ...  White       True    0.500     Monster        Grass   \n",
      "338      41  ...   Grey       True    0.500     Water_2          NaN   \n",
      "392      56  ...   Blue       True    0.875     Water_1        Field   \n",
      "263      61  ...  White       True    0.500       Field          NaN   \n",
      "\n",
      "     hasMegaEvolution Height_m Weight_kg  Catch_Rate        Body_Style  \n",
      "319             False     2.01     130.0         125         with_fins  \n",
      "458             False     0.99      50.5         120    bipedal_tailed  \n",
      "338             False     0.41       1.9         190         with_fins  \n",
      "392             False     0.41       5.2          45  bipedal_tailless  \n",
      "263             False     0.51      32.5          90         quadruped  \n",
      "\n",
      "[5 rows x 23 columns]\n"
     ]
    }
   ],
   "source": [
    "print(dataset.sample(5))"
   ]
  },
  {
   "cell_type": "code",
   "execution_count": 4,
   "metadata": {},
   "outputs": [
    {
     "data": {
      "text/plain": [
       "Number                int64\n",
       "Name                 object\n",
       "Type_1               object\n",
       "Type_2               object\n",
       "Total                 int64\n",
       "HP                    int64\n",
       "Attack                int64\n",
       "Defense               int64\n",
       "Sp_Atk                int64\n",
       "Sp_Def                int64\n",
       "Speed                 int64\n",
       "Generation            int64\n",
       "isLegendary            bool\n",
       "Color                object\n",
       "hasGender              bool\n",
       "Pr_Male             float64\n",
       "Egg_Group_1          object\n",
       "Egg_Group_2          object\n",
       "hasMegaEvolution       bool\n",
       "Height_m            float64\n",
       "Weight_kg           float64\n",
       "Catch_Rate            int64\n",
       "Body_Style           object\n",
       "dtype: object"
      ]
     },
     "execution_count": 4,
     "metadata": {},
     "output_type": "execute_result"
    }
   ],
   "source": [
    "dataset.dtypes"
   ]
  },
  {
   "cell_type": "code",
   "execution_count": 5,
   "metadata": {},
   "outputs": [
    {
     "data": {
      "text/plain": [
       "Index(['Number', 'Name', 'Type_1', 'Type_2', 'Total', 'HP', 'Attack',\n",
       "       'Defense', 'Sp_Atk', 'Sp_Def', 'Speed', 'Generation', 'isLegendary',\n",
       "       'Color', 'hasGender', 'Pr_Male', 'Egg_Group_1', 'Egg_Group_2',\n",
       "       'hasMegaEvolution', 'Height_m', 'Weight_kg', 'Catch_Rate',\n",
       "       'Body_Style'],\n",
       "      dtype='object')"
      ]
     },
     "execution_count": 5,
     "metadata": {},
     "output_type": "execute_result"
    }
   ],
   "source": [
    "dataset.columns"
   ]
  },
  {
   "cell_type": "code",
   "execution_count": 6,
   "metadata": {},
   "outputs": [
    {
     "data": {
      "text/plain": [
       "Number              721\n",
       "Name                721\n",
       "Type_1              721\n",
       "Type_2              350\n",
       "Total               721\n",
       "HP                  721\n",
       "Attack              721\n",
       "Defense             721\n",
       "Sp_Atk              721\n",
       "Sp_Def              721\n",
       "Speed               721\n",
       "Generation          721\n",
       "isLegendary         721\n",
       "Color               721\n",
       "hasGender           721\n",
       "Pr_Male             644\n",
       "Egg_Group_1         721\n",
       "Egg_Group_2         191\n",
       "hasMegaEvolution    721\n",
       "Height_m            721\n",
       "Weight_kg           721\n",
       "Catch_Rate          721\n",
       "Body_Style          721\n",
       "dtype: int64"
      ]
     },
     "execution_count": 6,
     "metadata": {},
     "output_type": "execute_result"
    }
   ],
   "source": [
    "dataset.count()"
   ]
  },
  {
   "cell_type": "code",
   "execution_count": 7,
   "metadata": {},
   "outputs": [
    {
     "data": {
      "text/plain": [
       "<bound method NDFrame.describe of      Number        Name    Type_1  Type_2  Total   HP  Attack  Defense  \\\n",
       "0         1   Bulbasaur     Grass  Poison    318   45      49       49   \n",
       "1         2     Ivysaur     Grass  Poison    405   60      62       63   \n",
       "2         3    Venusaur     Grass  Poison    525   80      82       83   \n",
       "3         4  Charmander      Fire     NaN    309   39      52       43   \n",
       "4         5  Charmeleon      Fire     NaN    405   58      64       58   \n",
       "5         6   Charizard      Fire  Flying    534   78      84       78   \n",
       "6         7    Squirtle     Water     NaN    314   44      48       65   \n",
       "7         8   Wartortle     Water     NaN    405   59      63       80   \n",
       "8         9   Blastoise     Water     NaN    530   79      83      100   \n",
       "9        10    Caterpie       Bug     NaN    195   45      30       35   \n",
       "10       11     Metapod       Bug     NaN    205   50      20       55   \n",
       "11       12  Butterfree       Bug  Flying    395   60      45       50   \n",
       "12       13      Weedle       Bug  Poison    195   40      35       30   \n",
       "13       14      Kakuna       Bug  Poison    205   45      25       50   \n",
       "14       15    Beedrill       Bug  Poison    395   65      90       40   \n",
       "15       16      Pidgey    Normal  Flying    251   40      45       40   \n",
       "16       17   Pidgeotto    Normal  Flying    349   63      60       55   \n",
       "17       18     Pidgeot    Normal  Flying    479   83      80       75   \n",
       "18       19     Rattata    Normal     NaN    253   30      56       35   \n",
       "19       20    Raticate    Normal     NaN    413   55      81       60   \n",
       "20       21     Spearow    Normal  Flying    262   40      60       30   \n",
       "21       22      Fearow    Normal  Flying    442   65      90       65   \n",
       "22       23       Ekans    Poison     NaN    288   35      60       44   \n",
       "23       24       Arbok    Poison     NaN    438   60      85       69   \n",
       "24       25     Pikachu  Electric     NaN    320   35      55       40   \n",
       "25       26      Raichu  Electric     NaN    485   60      90       55   \n",
       "26       27   Sandshrew    Ground     NaN    300   50      75       85   \n",
       "27       28   Sandslash    Ground     NaN    450   75     100      110   \n",
       "28       29    Nidoran♀    Poison     NaN    275   55      47       52   \n",
       "29       30    Nidorina    Poison     NaN    365   70      62       67   \n",
       "..      ...         ...       ...     ...    ...  ...     ...      ...   \n",
       "691     692   Clauncher     Water     NaN    330   50      53       62   \n",
       "692     693   Clawitzer     Water     NaN    500   71      73       88   \n",
       "693     694  Helioptile  Electric  Normal    289   44      38       33   \n",
       "694     695   Heliolisk  Electric  Normal    481   62      55       52   \n",
       "695     696      Tyrunt      Rock  Dragon    362   58      89       77   \n",
       "696     697   Tyrantrum      Rock  Dragon    521   82     121      119   \n",
       "697     698      Amaura      Rock     Ice    362   77      59       50   \n",
       "698     699     Aurorus      Rock     Ice    521  123      77       72   \n",
       "699     700     Sylveon     Fairy     NaN    525   95      65       65   \n",
       "700     701    Hawlucha  Fighting  Flying    500   78      92       75   \n",
       "701     702     Dedenne  Electric   Fairy    431   67      58       57   \n",
       "702     703     Carbink      Rock   Fairy    500   50      50      150   \n",
       "703     704       Goomy    Dragon     NaN    300   45      50       35   \n",
       "704     705     Sliggoo    Dragon     NaN    452   68      75       53   \n",
       "705     706      Goodra    Dragon     NaN    600   90     100       70   \n",
       "706     707      Klefki     Steel   Fairy    470   57      80       91   \n",
       "707     708    Phantump     Ghost   Grass    309   43      70       48   \n",
       "708     709   Trevenant     Ghost   Grass    474   85     110       76   \n",
       "709     710   Pumpkaboo     Ghost   Grass    335   49      66       70   \n",
       "710     711   Gourgeist     Ghost   Grass    494   65      90      122   \n",
       "711     712    Bergmite       Ice     NaN    304   55      69       85   \n",
       "712     713     Avalugg       Ice     NaN    514   95     117      184   \n",
       "713     714      Noibat    Flying  Dragon    245   40      30       35   \n",
       "714     715     Noivern    Flying  Dragon    535   85      70       80   \n",
       "715     716     Xerneas     Fairy     NaN    680  126     131       95   \n",
       "716     717     Yveltal      Dark  Flying    680  126     131       95   \n",
       "717     718     Zygarde    Dragon  Ground    600  108     100      121   \n",
       "718     719     Diancie      Rock   Fairy    600   50     100      150   \n",
       "719     720       Hoopa   Psychic   Ghost    600   80     110       60   \n",
       "720     721   Volcanion      Fire   Water    600   80     110      120   \n",
       "\n",
       "     Sp_Atk  Sp_Def  ...   Color  hasGender  Pr_Male   Egg_Group_1  \\\n",
       "0        65      65  ...   Green       True    0.875       Monster   \n",
       "1        80      80  ...   Green       True    0.875       Monster   \n",
       "2       100     100  ...   Green       True    0.875       Monster   \n",
       "3        60      50  ...     Red       True    0.875       Monster   \n",
       "4        80      65  ...     Red       True    0.875       Monster   \n",
       "5       109      85  ...     Red       True    0.875       Monster   \n",
       "6        50      64  ...    Blue       True    0.875       Monster   \n",
       "7        65      80  ...    Blue       True    0.875       Monster   \n",
       "8        85     105  ...    Blue       True    0.875       Monster   \n",
       "9        20      20  ...   Green       True    0.500           Bug   \n",
       "10       25      25  ...   Green       True    0.500           Bug   \n",
       "11       90      80  ...   White       True    0.500           Bug   \n",
       "12       20      20  ...   Brown       True    0.500           Bug   \n",
       "13       25      25  ...  Yellow       True    0.500           Bug   \n",
       "14       45      80  ...  Yellow       True    0.500           Bug   \n",
       "15       35      35  ...   Brown       True    0.500        Flying   \n",
       "16       50      50  ...   Brown       True    0.500        Flying   \n",
       "17       70      70  ...   Brown       True    0.500        Flying   \n",
       "18       25      35  ...  Purple       True    0.500         Field   \n",
       "19       50      70  ...   Brown       True    0.500         Field   \n",
       "20       31      31  ...   Brown       True    0.500        Flying   \n",
       "21       61      61  ...   Brown       True    0.500        Flying   \n",
       "22       40      54  ...  Purple       True    0.500         Field   \n",
       "23       65      79  ...  Purple       True    0.500         Field   \n",
       "24       50      50  ...  Yellow       True    0.500         Field   \n",
       "25       90      80  ...  Yellow       True    0.500         Field   \n",
       "26       20      30  ...  Yellow       True    0.500         Field   \n",
       "27       45      55  ...  Yellow       True    0.500         Field   \n",
       "28       40      40  ...    Blue       True    0.000       Monster   \n",
       "29       55      55  ...    Blue       True    0.000  Undiscovered   \n",
       "..      ...     ...  ...     ...        ...      ...           ...   \n",
       "691      58      63  ...    Blue       True    0.500       Water_1   \n",
       "692     120      89  ...    Blue       True    0.500       Water_1   \n",
       "693      61      43  ...  Yellow       True    0.500       Monster   \n",
       "694     109      94  ...  Yellow       True    0.500       Monster   \n",
       "695      45      45  ...   Brown       True    0.875       Monster   \n",
       "696      69      59  ...     Red       True    0.875       Monster   \n",
       "697      67      63  ...    Blue       True    0.875       Monster   \n",
       "698      99      92  ...    Blue       True    0.875       Monster   \n",
       "699     110     130  ...    Pink       True    0.875         Field   \n",
       "700      74      63  ...   Green       True    0.500    Human-Like   \n",
       "701      81      67  ...  Yellow       True    0.500         Field   \n",
       "702      50     150  ...    Grey      False      NaN         Fairy   \n",
       "703      55      75  ...  Purple       True    0.500        Dragon   \n",
       "704      83     113  ...  Purple       True    0.500        Dragon   \n",
       "705     110     150  ...  Purple       True    0.500        Dragon   \n",
       "706      80      87  ...    Grey       True    0.500       Mineral   \n",
       "707      50      60  ...   Brown       True    0.500         Grass   \n",
       "708      65      82  ...   Brown       True    0.500         Grass   \n",
       "709      44      55  ...   Brown       True    0.500     Amorphous   \n",
       "710      58      75  ...   Brown       True    0.500     Amorphous   \n",
       "711      32      35  ...    Blue       True    0.500       Monster   \n",
       "712      44      46  ...    Blue       True    0.500       Monster   \n",
       "713      45      40  ...  Purple       True    0.500        Flying   \n",
       "714      97      80  ...  Purple       True    0.500        Flying   \n",
       "715     131      98  ...    Blue      False      NaN  Undiscovered   \n",
       "716     131      98  ...     Red      False      NaN  Undiscovered   \n",
       "717      81      95  ...   Green      False      NaN  Undiscovered   \n",
       "718     100     150  ...    Pink      False      NaN  Undiscovered   \n",
       "719     150     130  ...  Purple      False      NaN  Undiscovered   \n",
       "720     130      90  ...   Brown      False      NaN  Undiscovered   \n",
       "\n",
       "     Egg_Group_2  hasMegaEvolution Height_m Weight_kg  Catch_Rate  \\\n",
       "0          Grass             False     0.71       6.9          45   \n",
       "1          Grass             False     0.99      13.0          45   \n",
       "2          Grass              True     2.01     100.0          45   \n",
       "3         Dragon             False     0.61       8.5          45   \n",
       "4         Dragon             False     1.09      19.0          45   \n",
       "5         Dragon              True     1.70      90.5          45   \n",
       "6        Water_1             False     0.51       9.0          45   \n",
       "7        Water_1             False     0.99      22.5          45   \n",
       "8        Water_1              True     1.60      85.5          45   \n",
       "9            NaN             False     0.30       2.9         255   \n",
       "10           NaN             False     0.71       9.9         120   \n",
       "11           NaN             False     1.09      32.0          45   \n",
       "12           NaN             False     0.30       3.2         255   \n",
       "13           NaN             False     0.61      10.0         120   \n",
       "14           NaN              True     0.99      29.5          45   \n",
       "15           NaN             False     0.30       1.8         255   \n",
       "16           NaN             False     1.09      30.0         120   \n",
       "17           NaN              True     1.50      39.5          45   \n",
       "18           NaN             False     0.30       3.5         255   \n",
       "19           NaN             False     0.71      18.5         127   \n",
       "20           NaN             False     0.30       2.0         255   \n",
       "21           NaN             False     1.19      38.0          90   \n",
       "22        Dragon             False     2.01       6.9         255   \n",
       "23        Dragon             False     3.51      65.0          90   \n",
       "24         Fairy             False     0.41       6.0         190   \n",
       "25         Fairy             False     0.79      30.0          75   \n",
       "26           NaN             False     0.61      12.0         255   \n",
       "27           NaN             False     0.99      29.5          90   \n",
       "28         Field             False     0.41       7.0         235   \n",
       "29           NaN             False     0.79      20.0         120   \n",
       "..           ...               ...      ...       ...         ...   \n",
       "691      Water_3             False     0.51       8.3         225   \n",
       "692      Water_3             False     1.30      35.3          55   \n",
       "693       Dragon             False     0.51       6.0         190   \n",
       "694       Dragon             False     0.99      21.0          75   \n",
       "695       Dragon             False     0.79      26.0          45   \n",
       "696       Dragon             False     2.49     270.0          45   \n",
       "697          NaN             False     1.30      25.2          45   \n",
       "698          NaN             False     2.69     225.0          45   \n",
       "699          NaN             False     0.99      23.5          45   \n",
       "700          NaN             False     0.79      21.5         100   \n",
       "701        Fairy             False     0.20       2.2         180   \n",
       "702      Mineral             False     0.30       5.7          60   \n",
       "703          NaN             False     0.30       2.8          45   \n",
       "704          NaN             False     0.79      17.5          45   \n",
       "705          NaN             False     2.01     150.5          45   \n",
       "706          NaN             False     0.20       3.0          75   \n",
       "707    Amorphous             False     0.41       7.0         120   \n",
       "708    Amorphous             False     1.50      71.0          60   \n",
       "709          NaN             False     0.41       5.0         120   \n",
       "710          NaN             False     1.70      39.0          60   \n",
       "711          NaN             False     0.99      99.5         190   \n",
       "712          NaN             False     2.01     505.0          55   \n",
       "713          NaN             False     0.51       8.0         190   \n",
       "714          NaN             False     1.50      85.0          45   \n",
       "715          NaN             False     3.00     215.0          45   \n",
       "716          NaN             False     5.79     203.0          45   \n",
       "717          NaN             False     5.00     305.0           3   \n",
       "718          NaN              True     0.71       8.8           3   \n",
       "719          NaN             False     0.51       9.0           3   \n",
       "720          NaN             False     1.70     195.0           3   \n",
       "\n",
       "           Body_Style  \n",
       "0           quadruped  \n",
       "1           quadruped  \n",
       "2           quadruped  \n",
       "3      bipedal_tailed  \n",
       "4      bipedal_tailed  \n",
       "5      bipedal_tailed  \n",
       "6      bipedal_tailed  \n",
       "7      bipedal_tailed  \n",
       "8      bipedal_tailed  \n",
       "9           insectoid  \n",
       "10    serpentine_body  \n",
       "11         four_wings  \n",
       "12    serpentine_body  \n",
       "13    serpentine_body  \n",
       "14         four_wings  \n",
       "15          two_wings  \n",
       "16          two_wings  \n",
       "17          two_wings  \n",
       "18          quadruped  \n",
       "19          quadruped  \n",
       "20          two_wings  \n",
       "21          two_wings  \n",
       "22    serpentine_body  \n",
       "23    serpentine_body  \n",
       "24          quadruped  \n",
       "25     bipedal_tailed  \n",
       "26     bipedal_tailed  \n",
       "27     bipedal_tailed  \n",
       "28          quadruped  \n",
       "29          quadruped  \n",
       "..                ...  \n",
       "691         insectoid  \n",
       "692   serpentine_body  \n",
       "693    bipedal_tailed  \n",
       "694    bipedal_tailed  \n",
       "695    bipedal_tailed  \n",
       "696    bipedal_tailed  \n",
       "697         quadruped  \n",
       "698         quadruped  \n",
       "699         quadruped  \n",
       "700  bipedal_tailless  \n",
       "701    bipedal_tailed  \n",
       "702         head_only  \n",
       "703   serpentine_body  \n",
       "704   serpentine_body  \n",
       "705    bipedal_tailed  \n",
       "706         head_only  \n",
       "707         head_arms  \n",
       "708     several_limbs  \n",
       "709         head_only  \n",
       "710         head_base  \n",
       "711         quadruped  \n",
       "712         quadruped  \n",
       "713         two_wings  \n",
       "714         two_wings  \n",
       "715         quadruped  \n",
       "716         two_wings  \n",
       "717   serpentine_body  \n",
       "718         head_arms  \n",
       "719         head_only  \n",
       "720         quadruped  \n",
       "\n",
       "[721 rows x 23 columns]>"
      ]
     },
     "execution_count": 7,
     "metadata": {},
     "output_type": "execute_result"
    }
   ],
   "source": [
    "dataset.describe"
   ]
  },
  {
   "cell_type": "code",
   "execution_count": 8,
   "metadata": {},
   "outputs": [
    {
     "data": {
      "text/html": [
       "<div>\n",
       "<style scoped>\n",
       "    .dataframe tbody tr th:only-of-type {\n",
       "        vertical-align: middle;\n",
       "    }\n",
       "\n",
       "    .dataframe tbody tr th {\n",
       "        vertical-align: top;\n",
       "    }\n",
       "\n",
       "    .dataframe thead th {\n",
       "        text-align: right;\n",
       "    }\n",
       "</style>\n",
       "<table border=\"1\" class=\"dataframe\">\n",
       "  <thead>\n",
       "    <tr style=\"text-align: right;\">\n",
       "      <th></th>\n",
       "      <th>Number</th>\n",
       "      <th>Total</th>\n",
       "      <th>HP</th>\n",
       "      <th>Attack</th>\n",
       "      <th>Defense</th>\n",
       "      <th>Sp_Atk</th>\n",
       "      <th>Sp_Def</th>\n",
       "      <th>Speed</th>\n",
       "      <th>Generation</th>\n",
       "      <th>isLegendary</th>\n",
       "      <th>hasGender</th>\n",
       "      <th>Pr_Male</th>\n",
       "      <th>hasMegaEvolution</th>\n",
       "      <th>Height_m</th>\n",
       "      <th>Weight_kg</th>\n",
       "      <th>Catch_Rate</th>\n",
       "    </tr>\n",
       "  </thead>\n",
       "  <tbody>\n",
       "    <tr>\n",
       "      <th>Number</th>\n",
       "      <td>1.000000</td>\n",
       "      <td>0.160370</td>\n",
       "      <td>0.107512</td>\n",
       "      <td>0.138104</td>\n",
       "      <td>0.121401</td>\n",
       "      <td>0.120161</td>\n",
       "      <td>0.111822</td>\n",
       "      <td>0.028156</td>\n",
       "      <td>0.983329</td>\n",
       "      <td>0.135022</td>\n",
       "      <td>-0.100328</td>\n",
       "      <td>-0.013414</td>\n",
       "      <td>-0.117981</td>\n",
       "      <td>-0.009710</td>\n",
       "      <td>0.087309</td>\n",
       "      <td>-0.074931</td>\n",
       "    </tr>\n",
       "    <tr>\n",
       "      <th>Total</th>\n",
       "      <td>0.160370</td>\n",
       "      <td>1.000000</td>\n",
       "      <td>0.642628</td>\n",
       "      <td>0.704164</td>\n",
       "      <td>0.605831</td>\n",
       "      <td>0.723737</td>\n",
       "      <td>0.706501</td>\n",
       "      <td>0.548890</td>\n",
       "      <td>0.092868</td>\n",
       "      <td>0.481837</td>\n",
       "      <td>-0.385978</td>\n",
       "      <td>0.113564</td>\n",
       "      <td>0.228503</td>\n",
       "      <td>0.526813</td>\n",
       "      <td>0.535966</td>\n",
       "      <td>-0.738280</td>\n",
       "    </tr>\n",
       "    <tr>\n",
       "      <th>HP</th>\n",
       "      <td>0.107512</td>\n",
       "      <td>0.642628</td>\n",
       "      <td>1.000000</td>\n",
       "      <td>0.431680</td>\n",
       "      <td>0.228834</td>\n",
       "      <td>0.368640</td>\n",
       "      <td>0.376006</td>\n",
       "      <td>0.170031</td>\n",
       "      <td>0.071545</td>\n",
       "      <td>0.258926</td>\n",
       "      <td>-0.155031</td>\n",
       "      <td>-0.066704</td>\n",
       "      <td>0.093708</td>\n",
       "      <td>0.442872</td>\n",
       "      <td>0.431320</td>\n",
       "      <td>-0.478725</td>\n",
       "    </tr>\n",
       "    <tr>\n",
       "      <th>Attack</th>\n",
       "      <td>0.138104</td>\n",
       "      <td>0.704164</td>\n",
       "      <td>0.431680</td>\n",
       "      <td>1.000000</td>\n",
       "      <td>0.433233</td>\n",
       "      <td>0.335205</td>\n",
       "      <td>0.207211</td>\n",
       "      <td>0.335013</td>\n",
       "      <td>0.093857</td>\n",
       "      <td>0.302786</td>\n",
       "      <td>-0.196892</td>\n",
       "      <td>0.213882</td>\n",
       "      <td>0.203840</td>\n",
       "      <td>0.408590</td>\n",
       "      <td>0.469395</td>\n",
       "      <td>-0.525106</td>\n",
       "    </tr>\n",
       "    <tr>\n",
       "      <th>Defense</th>\n",
       "      <td>0.121401</td>\n",
       "      <td>0.605831</td>\n",
       "      <td>0.228834</td>\n",
       "      <td>0.433233</td>\n",
       "      <td>1.000000</td>\n",
       "      <td>0.202519</td>\n",
       "      <td>0.483986</td>\n",
       "      <td>-0.008663</td>\n",
       "      <td>0.068409</td>\n",
       "      <td>0.274446</td>\n",
       "      <td>-0.269466</td>\n",
       "      <td>0.063899</td>\n",
       "      <td>0.122666</td>\n",
       "      <td>0.354205</td>\n",
       "      <td>0.476983</td>\n",
       "      <td>-0.436558</td>\n",
       "    </tr>\n",
       "    <tr>\n",
       "      <th>Sp_Atk</th>\n",
       "      <td>0.120161</td>\n",
       "      <td>0.723737</td>\n",
       "      <td>0.368640</td>\n",
       "      <td>0.335205</td>\n",
       "      <td>0.202519</td>\n",
       "      <td>1.000000</td>\n",
       "      <td>0.492861</td>\n",
       "      <td>0.443106</td>\n",
       "      <td>0.069689</td>\n",
       "      <td>0.409739</td>\n",
       "      <td>-0.336579</td>\n",
       "      <td>0.105893</td>\n",
       "      <td>0.175581</td>\n",
       "      <td>0.330579</td>\n",
       "      <td>0.285048</td>\n",
       "      <td>-0.539114</td>\n",
       "    </tr>\n",
       "    <tr>\n",
       "      <th>Sp_Def</th>\n",
       "      <td>0.111822</td>\n",
       "      <td>0.706501</td>\n",
       "      <td>0.376006</td>\n",
       "      <td>0.207211</td>\n",
       "      <td>0.483986</td>\n",
       "      <td>0.492861</td>\n",
       "      <td>1.000000</td>\n",
       "      <td>0.233487</td>\n",
       "      <td>0.055421</td>\n",
       "      <td>0.360215</td>\n",
       "      <td>-0.337265</td>\n",
       "      <td>0.017941</td>\n",
       "      <td>0.149796</td>\n",
       "      <td>0.313196</td>\n",
       "      <td>0.328645</td>\n",
       "      <td>-0.513014</td>\n",
       "    </tr>\n",
       "    <tr>\n",
       "      <th>Speed</th>\n",
       "      <td>0.028156</td>\n",
       "      <td>0.548890</td>\n",
       "      <td>0.170031</td>\n",
       "      <td>0.335013</td>\n",
       "      <td>-0.008663</td>\n",
       "      <td>0.443106</td>\n",
       "      <td>0.233487</td>\n",
       "      <td>1.000000</td>\n",
       "      <td>0.003920</td>\n",
       "      <td>0.286082</td>\n",
       "      <td>-0.216964</td>\n",
       "      <td>0.070098</td>\n",
       "      <td>0.147844</td>\n",
       "      <td>0.224617</td>\n",
       "      <td>0.108637</td>\n",
       "      <td>-0.410557</td>\n",
       "    </tr>\n",
       "    <tr>\n",
       "      <th>Generation</th>\n",
       "      <td>0.983329</td>\n",
       "      <td>0.092868</td>\n",
       "      <td>0.071545</td>\n",
       "      <td>0.093857</td>\n",
       "      <td>0.068409</td>\n",
       "      <td>0.069689</td>\n",
       "      <td>0.055421</td>\n",
       "      <td>0.003920</td>\n",
       "      <td>1.000000</td>\n",
       "      <td>0.071875</td>\n",
       "      <td>-0.029916</td>\n",
       "      <td>0.010912</td>\n",
       "      <td>-0.125374</td>\n",
       "      <td>-0.051304</td>\n",
       "      <td>0.034003</td>\n",
       "      <td>-0.025227</td>\n",
       "    </tr>\n",
       "    <tr>\n",
       "      <th>isLegendary</th>\n",
       "      <td>0.135022</td>\n",
       "      <td>0.481837</td>\n",
       "      <td>0.258926</td>\n",
       "      <td>0.302786</td>\n",
       "      <td>0.274446</td>\n",
       "      <td>0.409739</td>\n",
       "      <td>0.360215</td>\n",
       "      <td>0.286082</td>\n",
       "      <td>0.071875</td>\n",
       "      <td>1.000000</td>\n",
       "      <td>-0.644714</td>\n",
       "      <td>0.095428</td>\n",
       "      <td>0.047955</td>\n",
       "      <td>0.326323</td>\n",
       "      <td>0.425219</td>\n",
       "      <td>-0.319302</td>\n",
       "    </tr>\n",
       "    <tr>\n",
       "      <th>hasGender</th>\n",
       "      <td>-0.100328</td>\n",
       "      <td>-0.385978</td>\n",
       "      <td>-0.155031</td>\n",
       "      <td>-0.196892</td>\n",
       "      <td>-0.269466</td>\n",
       "      <td>-0.336579</td>\n",
       "      <td>-0.337265</td>\n",
       "      <td>-0.216964</td>\n",
       "      <td>-0.029916</td>\n",
       "      <td>-0.644714</td>\n",
       "      <td>1.000000</td>\n",
       "      <td>NaN</td>\n",
       "      <td>0.016769</td>\n",
       "      <td>-0.200026</td>\n",
       "      <td>-0.361465</td>\n",
       "      <td>0.272304</td>\n",
       "    </tr>\n",
       "    <tr>\n",
       "      <th>Pr_Male</th>\n",
       "      <td>-0.013414</td>\n",
       "      <td>0.113564</td>\n",
       "      <td>-0.066704</td>\n",
       "      <td>0.213882</td>\n",
       "      <td>0.063899</td>\n",
       "      <td>0.105893</td>\n",
       "      <td>0.017941</td>\n",
       "      <td>0.070098</td>\n",
       "      <td>0.010912</td>\n",
       "      <td>0.095428</td>\n",
       "      <td>NaN</td>\n",
       "      <td>1.000000</td>\n",
       "      <td>0.031731</td>\n",
       "      <td>0.040863</td>\n",
       "      <td>0.061196</td>\n",
       "      <td>-0.253645</td>\n",
       "    </tr>\n",
       "    <tr>\n",
       "      <th>hasMegaEvolution</th>\n",
       "      <td>-0.117981</td>\n",
       "      <td>0.228503</td>\n",
       "      <td>0.093708</td>\n",
       "      <td>0.203840</td>\n",
       "      <td>0.122666</td>\n",
       "      <td>0.175581</td>\n",
       "      <td>0.149796</td>\n",
       "      <td>0.147844</td>\n",
       "      <td>-0.125374</td>\n",
       "      <td>0.047955</td>\n",
       "      <td>0.016769</td>\n",
       "      <td>0.031731</td>\n",
       "      <td>1.000000</td>\n",
       "      <td>0.194621</td>\n",
       "      <td>0.129057</td>\n",
       "      <td>-0.173273</td>\n",
       "    </tr>\n",
       "    <tr>\n",
       "      <th>Height_m</th>\n",
       "      <td>-0.009710</td>\n",
       "      <td>0.526813</td>\n",
       "      <td>0.442872</td>\n",
       "      <td>0.408590</td>\n",
       "      <td>0.354205</td>\n",
       "      <td>0.330579</td>\n",
       "      <td>0.313196</td>\n",
       "      <td>0.224617</td>\n",
       "      <td>-0.051304</td>\n",
       "      <td>0.326323</td>\n",
       "      <td>-0.200026</td>\n",
       "      <td>0.040863</td>\n",
       "      <td>0.194621</td>\n",
       "      <td>1.000000</td>\n",
       "      <td>0.661342</td>\n",
       "      <td>-0.382862</td>\n",
       "    </tr>\n",
       "    <tr>\n",
       "      <th>Weight_kg</th>\n",
       "      <td>0.087309</td>\n",
       "      <td>0.535966</td>\n",
       "      <td>0.431320</td>\n",
       "      <td>0.469395</td>\n",
       "      <td>0.476983</td>\n",
       "      <td>0.285048</td>\n",
       "      <td>0.328645</td>\n",
       "      <td>0.108637</td>\n",
       "      <td>0.034003</td>\n",
       "      <td>0.425219</td>\n",
       "      <td>-0.361465</td>\n",
       "      <td>0.061196</td>\n",
       "      <td>0.129057</td>\n",
       "      <td>0.661342</td>\n",
       "      <td>1.000000</td>\n",
       "      <td>-0.367798</td>\n",
       "    </tr>\n",
       "    <tr>\n",
       "      <th>Catch_Rate</th>\n",
       "      <td>-0.074931</td>\n",
       "      <td>-0.738280</td>\n",
       "      <td>-0.478725</td>\n",
       "      <td>-0.525106</td>\n",
       "      <td>-0.436558</td>\n",
       "      <td>-0.539114</td>\n",
       "      <td>-0.513014</td>\n",
       "      <td>-0.410557</td>\n",
       "      <td>-0.025227</td>\n",
       "      <td>-0.319302</td>\n",
       "      <td>0.272304</td>\n",
       "      <td>-0.253645</td>\n",
       "      <td>-0.173273</td>\n",
       "      <td>-0.382862</td>\n",
       "      <td>-0.367798</td>\n",
       "      <td>1.000000</td>\n",
       "    </tr>\n",
       "  </tbody>\n",
       "</table>\n",
       "</div>"
      ],
      "text/plain": [
       "                    Number     Total        HP    Attack   Defense    Sp_Atk  \\\n",
       "Number            1.000000  0.160370  0.107512  0.138104  0.121401  0.120161   \n",
       "Total             0.160370  1.000000  0.642628  0.704164  0.605831  0.723737   \n",
       "HP                0.107512  0.642628  1.000000  0.431680  0.228834  0.368640   \n",
       "Attack            0.138104  0.704164  0.431680  1.000000  0.433233  0.335205   \n",
       "Defense           0.121401  0.605831  0.228834  0.433233  1.000000  0.202519   \n",
       "Sp_Atk            0.120161  0.723737  0.368640  0.335205  0.202519  1.000000   \n",
       "Sp_Def            0.111822  0.706501  0.376006  0.207211  0.483986  0.492861   \n",
       "Speed             0.028156  0.548890  0.170031  0.335013 -0.008663  0.443106   \n",
       "Generation        0.983329  0.092868  0.071545  0.093857  0.068409  0.069689   \n",
       "isLegendary       0.135022  0.481837  0.258926  0.302786  0.274446  0.409739   \n",
       "hasGender        -0.100328 -0.385978 -0.155031 -0.196892 -0.269466 -0.336579   \n",
       "Pr_Male          -0.013414  0.113564 -0.066704  0.213882  0.063899  0.105893   \n",
       "hasMegaEvolution -0.117981  0.228503  0.093708  0.203840  0.122666  0.175581   \n",
       "Height_m         -0.009710  0.526813  0.442872  0.408590  0.354205  0.330579   \n",
       "Weight_kg         0.087309  0.535966  0.431320  0.469395  0.476983  0.285048   \n",
       "Catch_Rate       -0.074931 -0.738280 -0.478725 -0.525106 -0.436558 -0.539114   \n",
       "\n",
       "                    Sp_Def     Speed  Generation  isLegendary  hasGender  \\\n",
       "Number            0.111822  0.028156    0.983329     0.135022  -0.100328   \n",
       "Total             0.706501  0.548890    0.092868     0.481837  -0.385978   \n",
       "HP                0.376006  0.170031    0.071545     0.258926  -0.155031   \n",
       "Attack            0.207211  0.335013    0.093857     0.302786  -0.196892   \n",
       "Defense           0.483986 -0.008663    0.068409     0.274446  -0.269466   \n",
       "Sp_Atk            0.492861  0.443106    0.069689     0.409739  -0.336579   \n",
       "Sp_Def            1.000000  0.233487    0.055421     0.360215  -0.337265   \n",
       "Speed             0.233487  1.000000    0.003920     0.286082  -0.216964   \n",
       "Generation        0.055421  0.003920    1.000000     0.071875  -0.029916   \n",
       "isLegendary       0.360215  0.286082    0.071875     1.000000  -0.644714   \n",
       "hasGender        -0.337265 -0.216964   -0.029916    -0.644714   1.000000   \n",
       "Pr_Male           0.017941  0.070098    0.010912     0.095428        NaN   \n",
       "hasMegaEvolution  0.149796  0.147844   -0.125374     0.047955   0.016769   \n",
       "Height_m          0.313196  0.224617   -0.051304     0.326323  -0.200026   \n",
       "Weight_kg         0.328645  0.108637    0.034003     0.425219  -0.361465   \n",
       "Catch_Rate       -0.513014 -0.410557   -0.025227    -0.319302   0.272304   \n",
       "\n",
       "                   Pr_Male  hasMegaEvolution  Height_m  Weight_kg  Catch_Rate  \n",
       "Number           -0.013414         -0.117981 -0.009710   0.087309   -0.074931  \n",
       "Total             0.113564          0.228503  0.526813   0.535966   -0.738280  \n",
       "HP               -0.066704          0.093708  0.442872   0.431320   -0.478725  \n",
       "Attack            0.213882          0.203840  0.408590   0.469395   -0.525106  \n",
       "Defense           0.063899          0.122666  0.354205   0.476983   -0.436558  \n",
       "Sp_Atk            0.105893          0.175581  0.330579   0.285048   -0.539114  \n",
       "Sp_Def            0.017941          0.149796  0.313196   0.328645   -0.513014  \n",
       "Speed             0.070098          0.147844  0.224617   0.108637   -0.410557  \n",
       "Generation        0.010912         -0.125374 -0.051304   0.034003   -0.025227  \n",
       "isLegendary       0.095428          0.047955  0.326323   0.425219   -0.319302  \n",
       "hasGender              NaN          0.016769 -0.200026  -0.361465    0.272304  \n",
       "Pr_Male           1.000000          0.031731  0.040863   0.061196   -0.253645  \n",
       "hasMegaEvolution  0.031731          1.000000  0.194621   0.129057   -0.173273  \n",
       "Height_m          0.040863          0.194621  1.000000   0.661342   -0.382862  \n",
       "Weight_kg         0.061196          0.129057  0.661342   1.000000   -0.367798  \n",
       "Catch_Rate       -0.253645         -0.173273 -0.382862  -0.367798    1.000000  "
      ]
     },
     "execution_count": 8,
     "metadata": {},
     "output_type": "execute_result"
    }
   ],
   "source": [
    "dataset.corr()"
   ]
  },
  {
   "cell_type": "code",
   "execution_count": 9,
   "metadata": {},
   "outputs": [
    {
     "name": "stderr",
     "output_type": "stream",
     "text": [
      "C:\\Users\\Bruno\\Anaconda3\\lib\\site-packages\\matplotlib\\figure.py:2369: UserWarning: This figure includes Axes that are not compatible with tight_layout, so results might be incorrect.\n",
      "  warnings.warn(\"This figure includes Axes that are not compatible \"\n"
     ]
    },
    {
     "data": {
      "image/png": "[encoded data removed]",
      "text/plain": [
       "<Figure size 864x864 with 2 Axes>"
      ]
     },
     "metadata": {
      "needs_background": "light"
     },
     "output_type": "display_data"
    }
   ],
   "source": [
    "f,ax = plt.subplots(figsize=(12, 12))\n",
    "sns.heatmap(dataset.corr(), annot=True, linewidths=.5, fmt= '.1f',ax=ax)\n",
    "plt.show()"
   ]
  },
  {
   "cell_type": "code",
   "execution_count": 7,
   "metadata": {},
   "outputs": [
    {
     "data": {
      "text/plain": [
       "array(['Grass', 'Fire', 'Water', 'Bug', 'Normal', 'Poison', 'Electric',\n",
       "       'Ground', 'Fairy', 'Fighting', 'Psychic', 'Rock', 'Ghost', 'Ice',\n",
       "       'Dragon', 'Dark', 'Steel', 'Flying'], dtype=object)"
      ]
     },
     "execution_count": 7,
     "metadata": {},
     "output_type": "execute_result"
    }
   ],
   "source": [
    "dataset.Type_1.unique()"
   ]
  },
  {
   "cell_type": "code",
   "execution_count": 8,
   "metadata": {},
   "outputs": [
    {
     "data": {
      "text/plain": [
       "array(['Poison', nan, 'Flying', 'Ground', 'Fairy', 'Grass', 'Fighting',\n",
       "       'Psychic', 'Steel', 'Ice', 'Rock', 'Water', 'Electric', 'Fire',\n",
       "       'Dragon', 'Dark', 'Ghost', 'Bug', 'Normal'], dtype=object)"
      ]
     },
     "execution_count": 8,
     "metadata": {},
     "output_type": "execute_result"
    }
   ],
   "source": [
    "dataset.Type_2.unique()"
   ]
  },
  {
   "cell_type": "code",
   "execution_count": 9,
   "metadata": {},
   "outputs": [
    {
     "data": {
      "text/plain": [
       "array(['Green', 'Red', 'Blue', 'White', 'Brown', 'Yellow', 'Purple',\n",
       "       'Pink', 'Grey', 'Black'], dtype=object)"
      ]
     },
     "execution_count": 9,
     "metadata": {},
     "output_type": "execute_result"
    }
   ],
   "source": [
    "dataset.Color.unique()"
   ]
  },
  {
   "cell_type": "code",
   "execution_count": 10,
   "metadata": {},
   "outputs": [
    {
     "data": {
      "text/plain": [
       "array(['quadruped', 'bipedal_tailed', 'insectoid', 'serpentine_body',\n",
       "       'four_wings', 'two_wings', 'bipedal_tailless', 'head_legs',\n",
       "       'head_base', 'multiple_bodies', 'several_limbs', 'head_arms',\n",
       "       'with_fins', 'head_only'], dtype=object)"
      ]
     },
     "execution_count": 10,
     "metadata": {},
     "output_type": "execute_result"
    }
   ],
   "source": [
    "dataset.Body_Style.unique()"
   ]
  },
  {
   "cell_type": "code",
   "execution_count": 11,
   "metadata": {},
   "outputs": [
    {
     "name": "stderr",
     "output_type": "stream",
     "text": [
      "C:\\Users\\Bruno\\Anaconda3\\lib\\site-packages\\matplotlib\\figure.py:2369: UserWarning: This figure includes Axes that are not compatible with tight_layout, so results might be incorrect.\n",
      "  warnings.warn(\"This figure includes Axes that are not compatible \"\n"
     ]
    },
    {
     "data": {
      "image/png": "[encoded data removed]",
      "text/plain": [
       "<Figure size 1152x576 with 1 Axes>"
      ]
     },
     "metadata": {
      "needs_background": "light"
     },
     "output_type": "display_data"
    }
   ],
   "source": [
    "fig= plt.figure(figsize=(16,8))\n",
    "sns.set(style=\"darkgrid\")\n",
    "ax = sns.countplot(x=\"Type_1\", data=dataset)\n",
    "plt.savefig('Type1.png')"
   ]
  },
  {
   "cell_type": "code",
   "execution_count": 15,
   "metadata": {},
   "outputs": [
    {
     "name": "stderr",
     "output_type": "stream",
     "text": [
      "C:\\Users\\Bruno\\Anaconda3\\lib\\site-packages\\matplotlib\\figure.py:2369: UserWarning: This figure includes Axes that are not compatible with tight_layout, so results might be incorrect.\n",
      "  warnings.warn(\"This figure includes Axes that are not compatible \"\n"
     ]
    },
    {
     "data": {
      "image/png": "[encoded data removed]",
      "text/plain": [
       "<Figure size 1152x576 with 1 Axes>"
      ]
     },
     "metadata": {},
     "output_type": "display_data"
    }
   ],
   "source": [
    "fig= plt.figure(figsize=(16,8))\n",
    "sns.set(style=\"darkgrid\")\n",
    "ax = sns.countplot(x=\"Type_2\", data=dataset)\n",
    "plt.savefig('Type2.png')"
   ]
  },
  {
   "cell_type": "code",
   "execution_count": 16,
   "metadata": {},
   "outputs": [
    {
     "name": "stderr",
     "output_type": "stream",
     "text": [
      "C:\\Users\\Bruno\\Anaconda3\\lib\\site-packages\\matplotlib\\figure.py:2369: UserWarning: This figure includes Axes that are not compatible with tight_layout, so results might be incorrect.\n",
      "  warnings.warn(\"This figure includes Axes that are not compatible \"\n"
     ]
    },
    {
     "data": {
      "image/png": "[encoded data removed]",
      "text/plain": [
       "<Figure size 1152x576 with 1 Axes>"
      ]
     },
     "metadata": {},
     "output_type": "display_data"
    }
   ],
   "source": [
    "fig= plt.figure(figsize=(16,8))\n",
    "sns.set(style=\"darkgrid\")\n",
    "ax = sns.countplot(x=\"Body_Style\", data=dataset)\n",
    "plt.savefig('Body_Style.png')"
   ]
  },
  {
   "cell_type": "code",
   "execution_count": 17,
   "metadata": {},
   "outputs": [
    {
     "name": "stderr",
     "output_type": "stream",
     "text": [
      "C:\\Users\\Bruno\\Anaconda3\\lib\\site-packages\\matplotlib\\figure.py:2369: UserWarning: This figure includes Axes that are not compatible with tight_layout, so results might be incorrect.\n",
      "  warnings.warn(\"This figure includes Axes that are not compatible \"\n"
     ]
    },
    {
     "data": {
      "image/png": "[encoded data removed]",
      "text/plain": [
       "<Figure size 1152x576 with 1 Axes>"
      ]
     },
     "metadata": {},
     "output_type": "display_data"
    }
   ],
   "source": [
    "fig= plt.figure(figsize=(16,8))\n",
    "sns.set(style=\"darkgrid\")\n",
    "ax = sns.countplot(x=\"Color\", data=dataset)\n",
    "plt.savefig('Color.png')"
   ]
  },
  {
   "cell_type": "markdown",
   "metadata": {},
   "source": [
    "Todos os tipos são utilizados tanto como primários como secundários , o tipo primário predominante é o tipo água e o menos frequente é voador , já no segundo tipo voador é o mais comum e inseto o menos . "
   ]
  },
  {
   "cell_type": "code",
   "execution_count": 4,
   "metadata": {},
   "outputs": [
    {
     "data": {
      "text/html": [
       "<div>\n",
       "<style scoped>\n",
       "    .dataframe tbody tr th:only-of-type {\n",
       "        vertical-align: middle;\n",
       "    }\n",
       "\n",
       "    .dataframe tbody tr th {\n",
       "        vertical-align: top;\n",
       "    }\n",
       "\n",
       "    .dataframe thead th {\n",
       "        text-align: right;\n",
       "    }\n",
       "</style>\n",
       "<table border=\"1\" class=\"dataframe\">\n",
       "  <thead>\n",
       "    <tr style=\"text-align: right;\">\n",
       "      <th></th>\n",
       "      <th>Name</th>\n",
       "      <th>Type_1</th>\n",
       "      <th>Type_2</th>\n",
       "      <th>Color</th>\n",
       "      <th>Egg_Group_1</th>\n",
       "      <th>Egg_Group_2</th>\n",
       "      <th>Body_Style</th>\n",
       "    </tr>\n",
       "  </thead>\n",
       "  <tbody>\n",
       "    <tr>\n",
       "      <th>0</th>\n",
       "      <td>Bulbasaur</td>\n",
       "      <td>Grass</td>\n",
       "      <td>Poison</td>\n",
       "      <td>Green</td>\n",
       "      <td>Monster</td>\n",
       "      <td>Grass</td>\n",
       "      <td>quadruped</td>\n",
       "    </tr>\n",
       "    <tr>\n",
       "      <th>1</th>\n",
       "      <td>Ivysaur</td>\n",
       "      <td>Grass</td>\n",
       "      <td>Poison</td>\n",
       "      <td>Green</td>\n",
       "      <td>Monster</td>\n",
       "      <td>Grass</td>\n",
       "      <td>quadruped</td>\n",
       "    </tr>\n",
       "    <tr>\n",
       "      <th>2</th>\n",
       "      <td>Venusaur</td>\n",
       "      <td>Grass</td>\n",
       "      <td>Poison</td>\n",
       "      <td>Green</td>\n",
       "      <td>Monster</td>\n",
       "      <td>Grass</td>\n",
       "      <td>quadruped</td>\n",
       "    </tr>\n",
       "    <tr>\n",
       "      <th>3</th>\n",
       "      <td>Charmander</td>\n",
       "      <td>Fire</td>\n",
       "      <td>NaN</td>\n",
       "      <td>Red</td>\n",
       "      <td>Monster</td>\n",
       "      <td>Dragon</td>\n",
       "      <td>bipedal_tailed</td>\n",
       "    </tr>\n",
       "    <tr>\n",
       "      <th>4</th>\n",
       "      <td>Charmeleon</td>\n",
       "      <td>Fire</td>\n",
       "      <td>NaN</td>\n",
       "      <td>Red</td>\n",
       "      <td>Monster</td>\n",
       "      <td>Dragon</td>\n",
       "      <td>bipedal_tailed</td>\n",
       "    </tr>\n",
       "  </tbody>\n",
       "</table>\n",
       "</div>"
      ],
      "text/plain": [
       "         Name Type_1  Type_2  Color Egg_Group_1 Egg_Group_2      Body_Style\n",
       "0   Bulbasaur  Grass  Poison  Green     Monster       Grass       quadruped\n",
       "1     Ivysaur  Grass  Poison  Green     Monster       Grass       quadruped\n",
       "2    Venusaur  Grass  Poison  Green     Monster       Grass       quadruped\n",
       "3  Charmander   Fire     NaN    Red     Monster      Dragon  bipedal_tailed\n",
       "4  Charmeleon   Fire     NaN    Red     Monster      Dragon  bipedal_tailed"
      ]
     },
     "execution_count": 4,
     "metadata": {},
     "output_type": "execute_result"
    }
   ],
   "source": [
    "obj_df = dataset.select_dtypes(include = ['object']).copy()\n",
    "obj_df.head()"
   ]
  },
  {
   "cell_type": "code",
   "execution_count": 5,
   "metadata": {},
   "outputs": [
    {
     "data": {
      "text/html": [
       "<div>\n",
       "<style scoped>\n",
       "    .dataframe tbody tr th:only-of-type {\n",
       "        vertical-align: middle;\n",
       "    }\n",
       "\n",
       "    .dataframe tbody tr th {\n",
       "        vertical-align: top;\n",
       "    }\n",
       "\n",
       "    .dataframe thead th {\n",
       "        text-align: right;\n",
       "    }\n",
       "</style>\n",
       "<table border=\"1\" class=\"dataframe\">\n",
       "  <thead>\n",
       "    <tr style=\"text-align: right;\">\n",
       "      <th></th>\n",
       "      <th>Name</th>\n",
       "      <th>Type_1</th>\n",
       "      <th>Type_2</th>\n",
       "      <th>Color</th>\n",
       "      <th>Egg_Group_1</th>\n",
       "      <th>Egg_Group_2</th>\n",
       "      <th>Body_Style</th>\n",
       "    </tr>\n",
       "  </thead>\n",
       "  <tbody>\n",
       "    <tr>\n",
       "      <th>3</th>\n",
       "      <td>Charmander</td>\n",
       "      <td>Fire</td>\n",
       "      <td>NaN</td>\n",
       "      <td>Red</td>\n",
       "      <td>Monster</td>\n",
       "      <td>Dragon</td>\n",
       "      <td>bipedal_tailed</td>\n",
       "    </tr>\n",
       "    <tr>\n",
       "      <th>4</th>\n",
       "      <td>Charmeleon</td>\n",
       "      <td>Fire</td>\n",
       "      <td>NaN</td>\n",
       "      <td>Red</td>\n",
       "      <td>Monster</td>\n",
       "      <td>Dragon</td>\n",
       "      <td>bipedal_tailed</td>\n",
       "    </tr>\n",
       "    <tr>\n",
       "      <th>6</th>\n",
       "      <td>Squirtle</td>\n",
       "      <td>Water</td>\n",
       "      <td>NaN</td>\n",
       "      <td>Blue</td>\n",
       "      <td>Monster</td>\n",
       "      <td>Water_1</td>\n",
       "      <td>bipedal_tailed</td>\n",
       "    </tr>\n",
       "    <tr>\n",
       "      <th>7</th>\n",
       "      <td>Wartortle</td>\n",
       "      <td>Water</td>\n",
       "      <td>NaN</td>\n",
       "      <td>Blue</td>\n",
       "      <td>Monster</td>\n",
       "      <td>Water_1</td>\n",
       "      <td>bipedal_tailed</td>\n",
       "    </tr>\n",
       "    <tr>\n",
       "      <th>8</th>\n",
       "      <td>Blastoise</td>\n",
       "      <td>Water</td>\n",
       "      <td>NaN</td>\n",
       "      <td>Blue</td>\n",
       "      <td>Monster</td>\n",
       "      <td>Water_1</td>\n",
       "      <td>bipedal_tailed</td>\n",
       "    </tr>\n",
       "    <tr>\n",
       "      <th>9</th>\n",
       "      <td>Caterpie</td>\n",
       "      <td>Bug</td>\n",
       "      <td>NaN</td>\n",
       "      <td>Green</td>\n",
       "      <td>Bug</td>\n",
       "      <td>NaN</td>\n",
       "      <td>insectoid</td>\n",
       "    </tr>\n",
       "    <tr>\n",
       "      <th>10</th>\n",
       "      <td>Metapod</td>\n",
       "      <td>Bug</td>\n",
       "      <td>NaN</td>\n",
       "      <td>Green</td>\n",
       "      <td>Bug</td>\n",
       "      <td>NaN</td>\n",
       "      <td>serpentine_body</td>\n",
       "    </tr>\n",
       "    <tr>\n",
       "      <th>11</th>\n",
       "      <td>Butterfree</td>\n",
       "      <td>Bug</td>\n",
       "      <td>Flying</td>\n",
       "      <td>White</td>\n",
       "      <td>Bug</td>\n",
       "      <td>NaN</td>\n",
       "      <td>four_wings</td>\n",
       "    </tr>\n",
       "    <tr>\n",
       "      <th>12</th>\n",
       "      <td>Weedle</td>\n",
       "      <td>Bug</td>\n",
       "      <td>Poison</td>\n",
       "      <td>Brown</td>\n",
       "      <td>Bug</td>\n",
       "      <td>NaN</td>\n",
       "      <td>serpentine_body</td>\n",
       "    </tr>\n",
       "    <tr>\n",
       "      <th>13</th>\n",
       "      <td>Kakuna</td>\n",
       "      <td>Bug</td>\n",
       "      <td>Poison</td>\n",
       "      <td>Yellow</td>\n",
       "      <td>Bug</td>\n",
       "      <td>NaN</td>\n",
       "      <td>serpentine_body</td>\n",
       "    </tr>\n",
       "    <tr>\n",
       "      <th>14</th>\n",
       "      <td>Beedrill</td>\n",
       "      <td>Bug</td>\n",
       "      <td>Poison</td>\n",
       "      <td>Yellow</td>\n",
       "      <td>Bug</td>\n",
       "      <td>NaN</td>\n",
       "      <td>four_wings</td>\n",
       "    </tr>\n",
       "    <tr>\n",
       "      <th>15</th>\n",
       "      <td>Pidgey</td>\n",
       "      <td>Normal</td>\n",
       "      <td>Flying</td>\n",
       "      <td>Brown</td>\n",
       "      <td>Flying</td>\n",
       "      <td>NaN</td>\n",
       "      <td>two_wings</td>\n",
       "    </tr>\n",
       "    <tr>\n",
       "      <th>16</th>\n",
       "      <td>Pidgeotto</td>\n",
       "      <td>Normal</td>\n",
       "      <td>Flying</td>\n",
       "      <td>Brown</td>\n",
       "      <td>Flying</td>\n",
       "      <td>NaN</td>\n",
       "      <td>two_wings</td>\n",
       "    </tr>\n",
       "    <tr>\n",
       "      <th>17</th>\n",
       "      <td>Pidgeot</td>\n",
       "      <td>Normal</td>\n",
       "      <td>Flying</td>\n",
       "      <td>Brown</td>\n",
       "      <td>Flying</td>\n",
       "      <td>NaN</td>\n",
       "      <td>two_wings</td>\n",
       "    </tr>\n",
       "    <tr>\n",
       "      <th>18</th>\n",
       "      <td>Rattata</td>\n",
       "      <td>Normal</td>\n",
       "      <td>NaN</td>\n",
       "      <td>Purple</td>\n",
       "      <td>Field</td>\n",
       "      <td>NaN</td>\n",
       "      <td>quadruped</td>\n",
       "    </tr>\n",
       "    <tr>\n",
       "      <th>19</th>\n",
       "      <td>Raticate</td>\n",
       "      <td>Normal</td>\n",
       "      <td>NaN</td>\n",
       "      <td>Brown</td>\n",
       "      <td>Field</td>\n",
       "      <td>NaN</td>\n",
       "      <td>quadruped</td>\n",
       "    </tr>\n",
       "    <tr>\n",
       "      <th>20</th>\n",
       "      <td>Spearow</td>\n",
       "      <td>Normal</td>\n",
       "      <td>Flying</td>\n",
       "      <td>Brown</td>\n",
       "      <td>Flying</td>\n",
       "      <td>NaN</td>\n",
       "      <td>two_wings</td>\n",
       "    </tr>\n",
       "    <tr>\n",
       "      <th>21</th>\n",
       "      <td>Fearow</td>\n",
       "      <td>Normal</td>\n",
       "      <td>Flying</td>\n",
       "      <td>Brown</td>\n",
       "      <td>Flying</td>\n",
       "      <td>NaN</td>\n",
       "      <td>two_wings</td>\n",
       "    </tr>\n",
       "    <tr>\n",
       "      <th>22</th>\n",
       "      <td>Ekans</td>\n",
       "      <td>Poison</td>\n",
       "      <td>NaN</td>\n",
       "      <td>Purple</td>\n",
       "      <td>Field</td>\n",
       "      <td>Dragon</td>\n",
       "      <td>serpentine_body</td>\n",
       "    </tr>\n",
       "    <tr>\n",
       "      <th>23</th>\n",
       "      <td>Arbok</td>\n",
       "      <td>Poison</td>\n",
       "      <td>NaN</td>\n",
       "      <td>Purple</td>\n",
       "      <td>Field</td>\n",
       "      <td>Dragon</td>\n",
       "      <td>serpentine_body</td>\n",
       "    </tr>\n",
       "    <tr>\n",
       "      <th>24</th>\n",
       "      <td>Pikachu</td>\n",
       "      <td>Electric</td>\n",
       "      <td>NaN</td>\n",
       "      <td>Yellow</td>\n",
       "      <td>Field</td>\n",
       "      <td>Fairy</td>\n",
       "      <td>quadruped</td>\n",
       "    </tr>\n",
       "    <tr>\n",
       "      <th>25</th>\n",
       "      <td>Raichu</td>\n",
       "      <td>Electric</td>\n",
       "      <td>NaN</td>\n",
       "      <td>Yellow</td>\n",
       "      <td>Field</td>\n",
       "      <td>Fairy</td>\n",
       "      <td>bipedal_tailed</td>\n",
       "    </tr>\n",
       "    <tr>\n",
       "      <th>26</th>\n",
       "      <td>Sandshrew</td>\n",
       "      <td>Ground</td>\n",
       "      <td>NaN</td>\n",
       "      <td>Yellow</td>\n",
       "      <td>Field</td>\n",
       "      <td>NaN</td>\n",
       "      <td>bipedal_tailed</td>\n",
       "    </tr>\n",
       "    <tr>\n",
       "      <th>27</th>\n",
       "      <td>Sandslash</td>\n",
       "      <td>Ground</td>\n",
       "      <td>NaN</td>\n",
       "      <td>Yellow</td>\n",
       "      <td>Field</td>\n",
       "      <td>NaN</td>\n",
       "      <td>bipedal_tailed</td>\n",
       "    </tr>\n",
       "    <tr>\n",
       "      <th>28</th>\n",
       "      <td>Nidoran♀</td>\n",
       "      <td>Poison</td>\n",
       "      <td>NaN</td>\n",
       "      <td>Blue</td>\n",
       "      <td>Monster</td>\n",
       "      <td>Field</td>\n",
       "      <td>quadruped</td>\n",
       "    </tr>\n",
       "    <tr>\n",
       "      <th>29</th>\n",
       "      <td>Nidorina</td>\n",
       "      <td>Poison</td>\n",
       "      <td>NaN</td>\n",
       "      <td>Blue</td>\n",
       "      <td>Undiscovered</td>\n",
       "      <td>NaN</td>\n",
       "      <td>quadruped</td>\n",
       "    </tr>\n",
       "    <tr>\n",
       "      <th>30</th>\n",
       "      <td>Nidoqueen</td>\n",
       "      <td>Poison</td>\n",
       "      <td>Ground</td>\n",
       "      <td>Blue</td>\n",
       "      <td>Undiscovered</td>\n",
       "      <td>NaN</td>\n",
       "      <td>bipedal_tailed</td>\n",
       "    </tr>\n",
       "    <tr>\n",
       "      <th>31</th>\n",
       "      <td>Nidoran♂</td>\n",
       "      <td>Poison</td>\n",
       "      <td>NaN</td>\n",
       "      <td>Purple</td>\n",
       "      <td>Monster</td>\n",
       "      <td>Field</td>\n",
       "      <td>quadruped</td>\n",
       "    </tr>\n",
       "    <tr>\n",
       "      <th>32</th>\n",
       "      <td>Nidorino</td>\n",
       "      <td>Poison</td>\n",
       "      <td>NaN</td>\n",
       "      <td>Purple</td>\n",
       "      <td>Monster</td>\n",
       "      <td>Field</td>\n",
       "      <td>quadruped</td>\n",
       "    </tr>\n",
       "    <tr>\n",
       "      <th>34</th>\n",
       "      <td>Clefairy</td>\n",
       "      <td>Fairy</td>\n",
       "      <td>NaN</td>\n",
       "      <td>Pink</td>\n",
       "      <td>Fairy</td>\n",
       "      <td>NaN</td>\n",
       "      <td>bipedal_tailed</td>\n",
       "    </tr>\n",
       "    <tr>\n",
       "      <th>...</th>\n",
       "      <td>...</td>\n",
       "      <td>...</td>\n",
       "      <td>...</td>\n",
       "      <td>...</td>\n",
       "      <td>...</td>\n",
       "      <td>...</td>\n",
       "      <td>...</td>\n",
       "    </tr>\n",
       "    <tr>\n",
       "      <th>679</th>\n",
       "      <td>Doublade</td>\n",
       "      <td>Steel</td>\n",
       "      <td>Ghost</td>\n",
       "      <td>Brown</td>\n",
       "      <td>Mineral</td>\n",
       "      <td>NaN</td>\n",
       "      <td>multiple_bodies</td>\n",
       "    </tr>\n",
       "    <tr>\n",
       "      <th>680</th>\n",
       "      <td>Aegislash</td>\n",
       "      <td>Steel</td>\n",
       "      <td>Ghost</td>\n",
       "      <td>Brown</td>\n",
       "      <td>Mineral</td>\n",
       "      <td>NaN</td>\n",
       "      <td>head_base</td>\n",
       "    </tr>\n",
       "    <tr>\n",
       "      <th>681</th>\n",
       "      <td>Spritzee</td>\n",
       "      <td>Fairy</td>\n",
       "      <td>NaN</td>\n",
       "      <td>Pink</td>\n",
       "      <td>Fairy</td>\n",
       "      <td>NaN</td>\n",
       "      <td>head_arms</td>\n",
       "    </tr>\n",
       "    <tr>\n",
       "      <th>682</th>\n",
       "      <td>Aromatisse</td>\n",
       "      <td>Fairy</td>\n",
       "      <td>NaN</td>\n",
       "      <td>Pink</td>\n",
       "      <td>Fairy</td>\n",
       "      <td>NaN</td>\n",
       "      <td>bipedal_tailless</td>\n",
       "    </tr>\n",
       "    <tr>\n",
       "      <th>683</th>\n",
       "      <td>Swirlix</td>\n",
       "      <td>Fairy</td>\n",
       "      <td>NaN</td>\n",
       "      <td>White</td>\n",
       "      <td>Fairy</td>\n",
       "      <td>NaN</td>\n",
       "      <td>head_legs</td>\n",
       "    </tr>\n",
       "    <tr>\n",
       "      <th>684</th>\n",
       "      <td>Slurpuff</td>\n",
       "      <td>Fairy</td>\n",
       "      <td>NaN</td>\n",
       "      <td>White</td>\n",
       "      <td>Fairy</td>\n",
       "      <td>NaN</td>\n",
       "      <td>bipedal_tailless</td>\n",
       "    </tr>\n",
       "    <tr>\n",
       "      <th>687</th>\n",
       "      <td>Binacle</td>\n",
       "      <td>Rock</td>\n",
       "      <td>Water</td>\n",
       "      <td>Brown</td>\n",
       "      <td>Water_3</td>\n",
       "      <td>NaN</td>\n",
       "      <td>multiple_bodies</td>\n",
       "    </tr>\n",
       "    <tr>\n",
       "      <th>688</th>\n",
       "      <td>Barbaracle</td>\n",
       "      <td>Rock</td>\n",
       "      <td>Water</td>\n",
       "      <td>Brown</td>\n",
       "      <td>Water_3</td>\n",
       "      <td>NaN</td>\n",
       "      <td>multiple_bodies</td>\n",
       "    </tr>\n",
       "    <tr>\n",
       "      <th>691</th>\n",
       "      <td>Clauncher</td>\n",
       "      <td>Water</td>\n",
       "      <td>NaN</td>\n",
       "      <td>Blue</td>\n",
       "      <td>Water_1</td>\n",
       "      <td>Water_3</td>\n",
       "      <td>insectoid</td>\n",
       "    </tr>\n",
       "    <tr>\n",
       "      <th>692</th>\n",
       "      <td>Clawitzer</td>\n",
       "      <td>Water</td>\n",
       "      <td>NaN</td>\n",
       "      <td>Blue</td>\n",
       "      <td>Water_1</td>\n",
       "      <td>Water_3</td>\n",
       "      <td>serpentine_body</td>\n",
       "    </tr>\n",
       "    <tr>\n",
       "      <th>697</th>\n",
       "      <td>Amaura</td>\n",
       "      <td>Rock</td>\n",
       "      <td>Ice</td>\n",
       "      <td>Blue</td>\n",
       "      <td>Monster</td>\n",
       "      <td>NaN</td>\n",
       "      <td>quadruped</td>\n",
       "    </tr>\n",
       "    <tr>\n",
       "      <th>698</th>\n",
       "      <td>Aurorus</td>\n",
       "      <td>Rock</td>\n",
       "      <td>Ice</td>\n",
       "      <td>Blue</td>\n",
       "      <td>Monster</td>\n",
       "      <td>NaN</td>\n",
       "      <td>quadruped</td>\n",
       "    </tr>\n",
       "    <tr>\n",
       "      <th>699</th>\n",
       "      <td>Sylveon</td>\n",
       "      <td>Fairy</td>\n",
       "      <td>NaN</td>\n",
       "      <td>Pink</td>\n",
       "      <td>Field</td>\n",
       "      <td>NaN</td>\n",
       "      <td>quadruped</td>\n",
       "    </tr>\n",
       "    <tr>\n",
       "      <th>700</th>\n",
       "      <td>Hawlucha</td>\n",
       "      <td>Fighting</td>\n",
       "      <td>Flying</td>\n",
       "      <td>Green</td>\n",
       "      <td>Human-Like</td>\n",
       "      <td>NaN</td>\n",
       "      <td>bipedal_tailless</td>\n",
       "    </tr>\n",
       "    <tr>\n",
       "      <th>703</th>\n",
       "      <td>Goomy</td>\n",
       "      <td>Dragon</td>\n",
       "      <td>NaN</td>\n",
       "      <td>Purple</td>\n",
       "      <td>Dragon</td>\n",
       "      <td>NaN</td>\n",
       "      <td>serpentine_body</td>\n",
       "    </tr>\n",
       "    <tr>\n",
       "      <th>704</th>\n",
       "      <td>Sliggoo</td>\n",
       "      <td>Dragon</td>\n",
       "      <td>NaN</td>\n",
       "      <td>Purple</td>\n",
       "      <td>Dragon</td>\n",
       "      <td>NaN</td>\n",
       "      <td>serpentine_body</td>\n",
       "    </tr>\n",
       "    <tr>\n",
       "      <th>705</th>\n",
       "      <td>Goodra</td>\n",
       "      <td>Dragon</td>\n",
       "      <td>NaN</td>\n",
       "      <td>Purple</td>\n",
       "      <td>Dragon</td>\n",
       "      <td>NaN</td>\n",
       "      <td>bipedal_tailed</td>\n",
       "    </tr>\n",
       "    <tr>\n",
       "      <th>706</th>\n",
       "      <td>Klefki</td>\n",
       "      <td>Steel</td>\n",
       "      <td>Fairy</td>\n",
       "      <td>Grey</td>\n",
       "      <td>Mineral</td>\n",
       "      <td>NaN</td>\n",
       "      <td>head_only</td>\n",
       "    </tr>\n",
       "    <tr>\n",
       "      <th>709</th>\n",
       "      <td>Pumpkaboo</td>\n",
       "      <td>Ghost</td>\n",
       "      <td>Grass</td>\n",
       "      <td>Brown</td>\n",
       "      <td>Amorphous</td>\n",
       "      <td>NaN</td>\n",
       "      <td>head_only</td>\n",
       "    </tr>\n",
       "    <tr>\n",
       "      <th>710</th>\n",
       "      <td>Gourgeist</td>\n",
       "      <td>Ghost</td>\n",
       "      <td>Grass</td>\n",
       "      <td>Brown</td>\n",
       "      <td>Amorphous</td>\n",
       "      <td>NaN</td>\n",
       "      <td>head_base</td>\n",
       "    </tr>\n",
       "    <tr>\n",
       "      <th>711</th>\n",
       "      <td>Bergmite</td>\n",
       "      <td>Ice</td>\n",
       "      <td>NaN</td>\n",
       "      <td>Blue</td>\n",
       "      <td>Monster</td>\n",
       "      <td>NaN</td>\n",
       "      <td>quadruped</td>\n",
       "    </tr>\n",
       "    <tr>\n",
       "      <th>712</th>\n",
       "      <td>Avalugg</td>\n",
       "      <td>Ice</td>\n",
       "      <td>NaN</td>\n",
       "      <td>Blue</td>\n",
       "      <td>Monster</td>\n",
       "      <td>NaN</td>\n",
       "      <td>quadruped</td>\n",
       "    </tr>\n",
       "    <tr>\n",
       "      <th>713</th>\n",
       "      <td>Noibat</td>\n",
       "      <td>Flying</td>\n",
       "      <td>Dragon</td>\n",
       "      <td>Purple</td>\n",
       "      <td>Flying</td>\n",
       "      <td>NaN</td>\n",
       "      <td>two_wings</td>\n",
       "    </tr>\n",
       "    <tr>\n",
       "      <th>714</th>\n",
       "      <td>Noivern</td>\n",
       "      <td>Flying</td>\n",
       "      <td>Dragon</td>\n",
       "      <td>Purple</td>\n",
       "      <td>Flying</td>\n",
       "      <td>NaN</td>\n",
       "      <td>two_wings</td>\n",
       "    </tr>\n",
       "    <tr>\n",
       "      <th>715</th>\n",
       "      <td>Xerneas</td>\n",
       "      <td>Fairy</td>\n",
       "      <td>NaN</td>\n",
       "      <td>Blue</td>\n",
       "      <td>Undiscovered</td>\n",
       "      <td>NaN</td>\n",
       "      <td>quadruped</td>\n",
       "    </tr>\n",
       "    <tr>\n",
       "      <th>716</th>\n",
       "      <td>Yveltal</td>\n",
       "      <td>Dark</td>\n",
       "      <td>Flying</td>\n",
       "      <td>Red</td>\n",
       "      <td>Undiscovered</td>\n",
       "      <td>NaN</td>\n",
       "      <td>two_wings</td>\n",
       "    </tr>\n",
       "    <tr>\n",
       "      <th>717</th>\n",
       "      <td>Zygarde</td>\n",
       "      <td>Dragon</td>\n",
       "      <td>Ground</td>\n",
       "      <td>Green</td>\n",
       "      <td>Undiscovered</td>\n",
       "      <td>NaN</td>\n",
       "      <td>serpentine_body</td>\n",
       "    </tr>\n",
       "    <tr>\n",
       "      <th>718</th>\n",
       "      <td>Diancie</td>\n",
       "      <td>Rock</td>\n",
       "      <td>Fairy</td>\n",
       "      <td>Pink</td>\n",
       "      <td>Undiscovered</td>\n",
       "      <td>NaN</td>\n",
       "      <td>head_arms</td>\n",
       "    </tr>\n",
       "    <tr>\n",
       "      <th>719</th>\n",
       "      <td>Hoopa</td>\n",
       "      <td>Psychic</td>\n",
       "      <td>Ghost</td>\n",
       "      <td>Purple</td>\n",
       "      <td>Undiscovered</td>\n",
       "      <td>NaN</td>\n",
       "      <td>head_only</td>\n",
       "    </tr>\n",
       "    <tr>\n",
       "      <th>720</th>\n",
       "      <td>Volcanion</td>\n",
       "      <td>Fire</td>\n",
       "      <td>Water</td>\n",
       "      <td>Brown</td>\n",
       "      <td>Undiscovered</td>\n",
       "      <td>NaN</td>\n",
       "      <td>quadruped</td>\n",
       "    </tr>\n",
       "  </tbody>\n",
       "</table>\n",
       "<p>618 rows × 7 columns</p>\n",
       "</div>"
      ],
      "text/plain": [
       "           Name    Type_1  Type_2   Color   Egg_Group_1 Egg_Group_2  \\\n",
       "3    Charmander      Fire     NaN     Red       Monster      Dragon   \n",
       "4    Charmeleon      Fire     NaN     Red       Monster      Dragon   \n",
       "6      Squirtle     Water     NaN    Blue       Monster     Water_1   \n",
       "7     Wartortle     Water     NaN    Blue       Monster     Water_1   \n",
       "8     Blastoise     Water     NaN    Blue       Monster     Water_1   \n",
       "9      Caterpie       Bug     NaN   Green           Bug         NaN   \n",
       "10      Metapod       Bug     NaN   Green           Bug         NaN   \n",
       "11   Butterfree       Bug  Flying   White           Bug         NaN   \n",
       "12       Weedle       Bug  Poison   Brown           Bug         NaN   \n",
       "13       Kakuna       Bug  Poison  Yellow           Bug         NaN   \n",
       "14     Beedrill       Bug  Poison  Yellow           Bug         NaN   \n",
       "15       Pidgey    Normal  Flying   Brown        Flying         NaN   \n",
       "16    Pidgeotto    Normal  Flying   Brown        Flying         NaN   \n",
       "17      Pidgeot    Normal  Flying   Brown        Flying         NaN   \n",
       "18      Rattata    Normal     NaN  Purple         Field         NaN   \n",
       "19     Raticate    Normal     NaN   Brown         Field         NaN   \n",
       "20      Spearow    Normal  Flying   Brown        Flying         NaN   \n",
       "21       Fearow    Normal  Flying   Brown        Flying         NaN   \n",
       "22        Ekans    Poison     NaN  Purple         Field      Dragon   \n",
       "23        Arbok    Poison     NaN  Purple         Field      Dragon   \n",
       "24      Pikachu  Electric     NaN  Yellow         Field       Fairy   \n",
       "25       Raichu  Electric     NaN  Yellow         Field       Fairy   \n",
       "26    Sandshrew    Ground     NaN  Yellow         Field         NaN   \n",
       "27    Sandslash    Ground     NaN  Yellow         Field         NaN   \n",
       "28     Nidoran♀    Poison     NaN    Blue       Monster       Field   \n",
       "29     Nidorina    Poison     NaN    Blue  Undiscovered         NaN   \n",
       "30    Nidoqueen    Poison  Ground    Blue  Undiscovered         NaN   \n",
       "31     Nidoran♂    Poison     NaN  Purple       Monster       Field   \n",
       "32     Nidorino    Poison     NaN  Purple       Monster       Field   \n",
       "34     Clefairy     Fairy     NaN    Pink         Fairy         NaN   \n",
       "..          ...       ...     ...     ...           ...         ...   \n",
       "679    Doublade     Steel   Ghost   Brown       Mineral         NaN   \n",
       "680   Aegislash     Steel   Ghost   Brown       Mineral         NaN   \n",
       "681    Spritzee     Fairy     NaN    Pink         Fairy         NaN   \n",
       "682  Aromatisse     Fairy     NaN    Pink         Fairy         NaN   \n",
       "683     Swirlix     Fairy     NaN   White         Fairy         NaN   \n",
       "684    Slurpuff     Fairy     NaN   White         Fairy         NaN   \n",
       "687     Binacle      Rock   Water   Brown       Water_3         NaN   \n",
       "688  Barbaracle      Rock   Water   Brown       Water_3         NaN   \n",
       "691   Clauncher     Water     NaN    Blue       Water_1     Water_3   \n",
       "692   Clawitzer     Water     NaN    Blue       Water_1     Water_3   \n",
       "697      Amaura      Rock     Ice    Blue       Monster         NaN   \n",
       "698     Aurorus      Rock     Ice    Blue       Monster         NaN   \n",
       "699     Sylveon     Fairy     NaN    Pink         Field         NaN   \n",
       "700    Hawlucha  Fighting  Flying   Green    Human-Like         NaN   \n",
       "703       Goomy    Dragon     NaN  Purple        Dragon         NaN   \n",
       "704     Sliggoo    Dragon     NaN  Purple        Dragon         NaN   \n",
       "705      Goodra    Dragon     NaN  Purple        Dragon         NaN   \n",
       "706      Klefki     Steel   Fairy    Grey       Mineral         NaN   \n",
       "709   Pumpkaboo     Ghost   Grass   Brown     Amorphous         NaN   \n",
       "710   Gourgeist     Ghost   Grass   Brown     Amorphous         NaN   \n",
       "711    Bergmite       Ice     NaN    Blue       Monster         NaN   \n",
       "712     Avalugg       Ice     NaN    Blue       Monster         NaN   \n",
       "713      Noibat    Flying  Dragon  Purple        Flying         NaN   \n",
       "714     Noivern    Flying  Dragon  Purple        Flying         NaN   \n",
       "715     Xerneas     Fairy     NaN    Blue  Undiscovered         NaN   \n",
       "716     Yveltal      Dark  Flying     Red  Undiscovered         NaN   \n",
       "717     Zygarde    Dragon  Ground   Green  Undiscovered         NaN   \n",
       "718     Diancie      Rock   Fairy    Pink  Undiscovered         NaN   \n",
       "719       Hoopa   Psychic   Ghost  Purple  Undiscovered         NaN   \n",
       "720   Volcanion      Fire   Water   Brown  Undiscovered         NaN   \n",
       "\n",
       "           Body_Style  \n",
       "3      bipedal_tailed  \n",
       "4      bipedal_tailed  \n",
       "6      bipedal_tailed  \n",
       "7      bipedal_tailed  \n",
       "8      bipedal_tailed  \n",
       "9           insectoid  \n",
       "10    serpentine_body  \n",
       "11         four_wings  \n",
       "12    serpentine_body  \n",
       "13    serpentine_body  \n",
       "14         four_wings  \n",
       "15          two_wings  \n",
       "16          two_wings  \n",
       "17          two_wings  \n",
       "18          quadruped  \n",
       "19          quadruped  \n",
       "20          two_wings  \n",
       "21          two_wings  \n",
       "22    serpentine_body  \n",
       "23    serpentine_body  \n",
       "24          quadruped  \n",
       "25     bipedal_tailed  \n",
       "26     bipedal_tailed  \n",
       "27     bipedal_tailed  \n",
       "28          quadruped  \n",
       "29          quadruped  \n",
       "30     bipedal_tailed  \n",
       "31          quadruped  \n",
       "32          quadruped  \n",
       "34     bipedal_tailed  \n",
       "..                ...  \n",
       "679   multiple_bodies  \n",
       "680         head_base  \n",
       "681         head_arms  \n",
       "682  bipedal_tailless  \n",
       "683         head_legs  \n",
       "684  bipedal_tailless  \n",
       "687   multiple_bodies  \n",
       "688   multiple_bodies  \n",
       "691         insectoid  \n",
       "692   serpentine_body  \n",
       "697         quadruped  \n",
       "698         quadruped  \n",
       "699         quadruped  \n",
       "700  bipedal_tailless  \n",
       "703   serpentine_body  \n",
       "704   serpentine_body  \n",
       "705    bipedal_tailed  \n",
       "706         head_only  \n",
       "709         head_only  \n",
       "710         head_base  \n",
       "711         quadruped  \n",
       "712         quadruped  \n",
       "713         two_wings  \n",
       "714         two_wings  \n",
       "715         quadruped  \n",
       "716         two_wings  \n",
       "717   serpentine_body  \n",
       "718         head_arms  \n",
       "719         head_only  \n",
       "720         quadruped  \n",
       "\n",
       "[618 rows x 7 columns]"
      ]
     },
     "execution_count": 5,
     "metadata": {},
     "output_type": "execute_result"
    }
   ],
   "source": [
    "obj_df[obj_df.isnull().any(axis=1)]"
   ]
  },
  {
   "cell_type": "code",
   "execution_count": 6,
   "metadata": {},
   "outputs": [],
   "source": [
    "dummiesEntradas = pd.get_dummies(obj_df, columns = [\"Body_Style\",\"Color\"])"
   ]
  },
  {
   "cell_type": "code",
   "execution_count": 7,
   "metadata": {},
   "outputs": [],
   "source": [
    "dummmiesSaida = pd.get_dummies(obj_df,columns = [\"Type_1\"])"
   ]
  },
  {
   "cell_type": "code",
   "execution_count": 8,
   "metadata": {},
   "outputs": [],
   "source": [
    "dummiesEntradas = dummiesEntradas.drop([\"Name\",\"Type_2\",\"Type_1\",\"Egg_Group_1\",\"Egg_Group_2\"],axis=1)"
   ]
  },
  {
   "cell_type": "code",
   "execution_count": 9,
   "metadata": {},
   "outputs": [],
   "source": [
    "dummmiesSaida = dummmiesSaida.drop([\"Name\",\"Type_2\",\"Color\",\"Egg_Group_1\",\"Egg_Group_2\",\"Body_Style\"],axis=1)"
   ]
  },
  {
   "cell_type": "code",
   "execution_count": 10,
   "metadata": {},
   "outputs": [
    {
     "data": {
      "text/html": [
       "<div>\n",
       "<style scoped>\n",
       "    .dataframe tbody tr th:only-of-type {\n",
       "        vertical-align: middle;\n",
       "    }\n",
       "\n",
       "    .dataframe tbody tr th {\n",
       "        vertical-align: top;\n",
       "    }\n",
       "\n",
       "    .dataframe thead th {\n",
       "        text-align: right;\n",
       "    }\n",
       "</style>\n",
       "<table border=\"1\" class=\"dataframe\">\n",
       "  <thead>\n",
       "    <tr style=\"text-align: right;\">\n",
       "      <th></th>\n",
       "      <th>Body_Style_bipedal_tailed</th>\n",
       "      <th>Body_Style_bipedal_tailless</th>\n",
       "      <th>Body_Style_four_wings</th>\n",
       "      <th>Body_Style_head_arms</th>\n",
       "      <th>Body_Style_head_base</th>\n",
       "      <th>Body_Style_head_legs</th>\n",
       "      <th>Body_Style_head_only</th>\n",
       "      <th>Body_Style_insectoid</th>\n",
       "      <th>Body_Style_multiple_bodies</th>\n",
       "      <th>Body_Style_quadruped</th>\n",
       "      <th>...</th>\n",
       "      <th>Color_Black</th>\n",
       "      <th>Color_Blue</th>\n",
       "      <th>Color_Brown</th>\n",
       "      <th>Color_Green</th>\n",
       "      <th>Color_Grey</th>\n",
       "      <th>Color_Pink</th>\n",
       "      <th>Color_Purple</th>\n",
       "      <th>Color_Red</th>\n",
       "      <th>Color_White</th>\n",
       "      <th>Color_Yellow</th>\n",
       "    </tr>\n",
       "  </thead>\n",
       "  <tbody>\n",
       "    <tr>\n",
       "      <th>204</th>\n",
       "      <td>0</td>\n",
       "      <td>0</td>\n",
       "      <td>0</td>\n",
       "      <td>0</td>\n",
       "      <td>0</td>\n",
       "      <td>0</td>\n",
       "      <td>1</td>\n",
       "      <td>0</td>\n",
       "      <td>0</td>\n",
       "      <td>0</td>\n",
       "      <td>...</td>\n",
       "      <td>0</td>\n",
       "      <td>0</td>\n",
       "      <td>0</td>\n",
       "      <td>0</td>\n",
       "      <td>0</td>\n",
       "      <td>0</td>\n",
       "      <td>1</td>\n",
       "      <td>0</td>\n",
       "      <td>0</td>\n",
       "      <td>0</td>\n",
       "    </tr>\n",
       "    <tr>\n",
       "      <th>475</th>\n",
       "      <td>0</td>\n",
       "      <td>0</td>\n",
       "      <td>0</td>\n",
       "      <td>0</td>\n",
       "      <td>0</td>\n",
       "      <td>0</td>\n",
       "      <td>0</td>\n",
       "      <td>0</td>\n",
       "      <td>1</td>\n",
       "      <td>0</td>\n",
       "      <td>...</td>\n",
       "      <td>0</td>\n",
       "      <td>0</td>\n",
       "      <td>0</td>\n",
       "      <td>0</td>\n",
       "      <td>1</td>\n",
       "      <td>0</td>\n",
       "      <td>0</td>\n",
       "      <td>0</td>\n",
       "      <td>0</td>\n",
       "      <td>0</td>\n",
       "    </tr>\n",
       "    <tr>\n",
       "      <th>347</th>\n",
       "      <td>1</td>\n",
       "      <td>0</td>\n",
       "      <td>0</td>\n",
       "      <td>0</td>\n",
       "      <td>0</td>\n",
       "      <td>0</td>\n",
       "      <td>0</td>\n",
       "      <td>0</td>\n",
       "      <td>0</td>\n",
       "      <td>0</td>\n",
       "      <td>...</td>\n",
       "      <td>0</td>\n",
       "      <td>0</td>\n",
       "      <td>0</td>\n",
       "      <td>0</td>\n",
       "      <td>1</td>\n",
       "      <td>0</td>\n",
       "      <td>0</td>\n",
       "      <td>0</td>\n",
       "      <td>0</td>\n",
       "      <td>0</td>\n",
       "    </tr>\n",
       "    <tr>\n",
       "      <th>608</th>\n",
       "      <td>0</td>\n",
       "      <td>0</td>\n",
       "      <td>0</td>\n",
       "      <td>1</td>\n",
       "      <td>0</td>\n",
       "      <td>0</td>\n",
       "      <td>0</td>\n",
       "      <td>0</td>\n",
       "      <td>0</td>\n",
       "      <td>0</td>\n",
       "      <td>...</td>\n",
       "      <td>1</td>\n",
       "      <td>0</td>\n",
       "      <td>0</td>\n",
       "      <td>0</td>\n",
       "      <td>0</td>\n",
       "      <td>0</td>\n",
       "      <td>0</td>\n",
       "      <td>0</td>\n",
       "      <td>0</td>\n",
       "      <td>0</td>\n",
       "    </tr>\n",
       "    <tr>\n",
       "      <th>703</th>\n",
       "      <td>0</td>\n",
       "      <td>0</td>\n",
       "      <td>0</td>\n",
       "      <td>0</td>\n",
       "      <td>0</td>\n",
       "      <td>0</td>\n",
       "      <td>0</td>\n",
       "      <td>0</td>\n",
       "      <td>0</td>\n",
       "      <td>0</td>\n",
       "      <td>...</td>\n",
       "      <td>0</td>\n",
       "      <td>0</td>\n",
       "      <td>0</td>\n",
       "      <td>0</td>\n",
       "      <td>0</td>\n",
       "      <td>0</td>\n",
       "      <td>1</td>\n",
       "      <td>0</td>\n",
       "      <td>0</td>\n",
       "      <td>0</td>\n",
       "    </tr>\n",
       "  </tbody>\n",
       "</table>\n",
       "<p>5 rows × 24 columns</p>\n",
       "</div>"
      ],
      "text/plain": [
       "     Body_Style_bipedal_tailed  Body_Style_bipedal_tailless  \\\n",
       "204                          0                            0   \n",
       "475                          0                            0   \n",
       "347                          1                            0   \n",
       "608                          0                            0   \n",
       "703                          0                            0   \n",
       "\n",
       "     Body_Style_four_wings  Body_Style_head_arms  Body_Style_head_base  \\\n",
       "204                      0                     0                     0   \n",
       "475                      0                     0                     0   \n",
       "347                      0                     0                     0   \n",
       "608                      0                     1                     0   \n",
       "703                      0                     0                     0   \n",
       "\n",
       "     Body_Style_head_legs  Body_Style_head_only  Body_Style_insectoid  \\\n",
       "204                     0                     1                     0   \n",
       "475                     0                     0                     0   \n",
       "347                     0                     0                     0   \n",
       "608                     0                     0                     0   \n",
       "703                     0                     0                     0   \n",
       "\n",
       "     Body_Style_multiple_bodies  Body_Style_quadruped  ...  Color_Black  \\\n",
       "204                           0                     0  ...            0   \n",
       "475                           1                     0  ...            0   \n",
       "347                           0                     0  ...            0   \n",
       "608                           0                     0  ...            1   \n",
       "703                           0                     0  ...            0   \n",
       "\n",
       "     Color_Blue  Color_Brown  Color_Green  Color_Grey  Color_Pink  \\\n",
       "204           0            0            0           0           0   \n",
       "475           0            0            0           1           0   \n",
       "347           0            0            0           1           0   \n",
       "608           0            0            0           0           0   \n",
       "703           0            0            0           0           0   \n",
       "\n",
       "     Color_Purple  Color_Red  Color_White  Color_Yellow  \n",
       "204             1          0            0             0  \n",
       "475             0          0            0             0  \n",
       "347             0          0            0             0  \n",
       "608             0          0            0             0  \n",
       "703             1          0            0             0  \n",
       "\n",
       "[5 rows x 24 columns]"
      ]
     },
     "execution_count": 10,
     "metadata": {},
     "output_type": "execute_result"
    }
   ],
   "source": [
    "dummiesEntradas.sample(5)"
   ]
  },
  {
   "cell_type": "code",
   "execution_count": 19,
   "metadata": {},
   "outputs": [
    {
     "data": {
      "text/html": [
       "<div>\n",
       "<style scoped>\n",
       "    .dataframe tbody tr th:only-of-type {\n",
       "        vertical-align: middle;\n",
       "    }\n",
       "\n",
       "    .dataframe tbody tr th {\n",
       "        vertical-align: top;\n",
       "    }\n",
       "\n",
       "    .dataframe thead th {\n",
       "        text-align: right;\n",
       "    }\n",
       "</style>\n",
       "<table border=\"1\" class=\"dataframe\">\n",
       "  <thead>\n",
       "    <tr style=\"text-align: right;\">\n",
       "      <th></th>\n",
       "      <th>Type_1_Bug</th>\n",
       "      <th>Type_1_Dark</th>\n",
       "      <th>Type_1_Dragon</th>\n",
       "      <th>Type_1_Electric</th>\n",
       "      <th>Type_1_Fairy</th>\n",
       "      <th>Type_1_Fighting</th>\n",
       "      <th>Type_1_Fire</th>\n",
       "      <th>Type_1_Flying</th>\n",
       "      <th>Type_1_Ghost</th>\n",
       "      <th>Type_1_Grass</th>\n",
       "      <th>Type_1_Ground</th>\n",
       "      <th>Type_1_Ice</th>\n",
       "      <th>Type_1_Normal</th>\n",
       "      <th>Type_1_Poison</th>\n",
       "      <th>Type_1_Psychic</th>\n",
       "      <th>Type_1_Rock</th>\n",
       "      <th>Type_1_Steel</th>\n",
       "      <th>Type_1_Water</th>\n",
       "    </tr>\n",
       "  </thead>\n",
       "  <tbody>\n",
       "    <tr>\n",
       "      <th>489</th>\n",
       "      <td>0</td>\n",
       "      <td>0</td>\n",
       "      <td>0</td>\n",
       "      <td>0</td>\n",
       "      <td>0</td>\n",
       "      <td>0</td>\n",
       "      <td>0</td>\n",
       "      <td>0</td>\n",
       "      <td>0</td>\n",
       "      <td>0</td>\n",
       "      <td>0</td>\n",
       "      <td>0</td>\n",
       "      <td>0</td>\n",
       "      <td>0</td>\n",
       "      <td>0</td>\n",
       "      <td>0</td>\n",
       "      <td>0</td>\n",
       "      <td>1</td>\n",
       "    </tr>\n",
       "    <tr>\n",
       "      <th>577</th>\n",
       "      <td>0</td>\n",
       "      <td>0</td>\n",
       "      <td>0</td>\n",
       "      <td>0</td>\n",
       "      <td>0</td>\n",
       "      <td>0</td>\n",
       "      <td>0</td>\n",
       "      <td>0</td>\n",
       "      <td>0</td>\n",
       "      <td>0</td>\n",
       "      <td>0</td>\n",
       "      <td>0</td>\n",
       "      <td>0</td>\n",
       "      <td>0</td>\n",
       "      <td>1</td>\n",
       "      <td>0</td>\n",
       "      <td>0</td>\n",
       "      <td>0</td>\n",
       "    </tr>\n",
       "    <tr>\n",
       "      <th>657</th>\n",
       "      <td>0</td>\n",
       "      <td>0</td>\n",
       "      <td>0</td>\n",
       "      <td>0</td>\n",
       "      <td>0</td>\n",
       "      <td>0</td>\n",
       "      <td>0</td>\n",
       "      <td>0</td>\n",
       "      <td>0</td>\n",
       "      <td>0</td>\n",
       "      <td>0</td>\n",
       "      <td>0</td>\n",
       "      <td>0</td>\n",
       "      <td>0</td>\n",
       "      <td>0</td>\n",
       "      <td>0</td>\n",
       "      <td>0</td>\n",
       "      <td>1</td>\n",
       "    </tr>\n",
       "    <tr>\n",
       "      <th>62</th>\n",
       "      <td>0</td>\n",
       "      <td>0</td>\n",
       "      <td>0</td>\n",
       "      <td>0</td>\n",
       "      <td>0</td>\n",
       "      <td>0</td>\n",
       "      <td>0</td>\n",
       "      <td>0</td>\n",
       "      <td>0</td>\n",
       "      <td>0</td>\n",
       "      <td>0</td>\n",
       "      <td>0</td>\n",
       "      <td>0</td>\n",
       "      <td>0</td>\n",
       "      <td>1</td>\n",
       "      <td>0</td>\n",
       "      <td>0</td>\n",
       "      <td>0</td>\n",
       "    </tr>\n",
       "    <tr>\n",
       "      <th>426</th>\n",
       "      <td>0</td>\n",
       "      <td>0</td>\n",
       "      <td>0</td>\n",
       "      <td>0</td>\n",
       "      <td>0</td>\n",
       "      <td>0</td>\n",
       "      <td>0</td>\n",
       "      <td>0</td>\n",
       "      <td>0</td>\n",
       "      <td>0</td>\n",
       "      <td>0</td>\n",
       "      <td>0</td>\n",
       "      <td>1</td>\n",
       "      <td>0</td>\n",
       "      <td>0</td>\n",
       "      <td>0</td>\n",
       "      <td>0</td>\n",
       "      <td>0</td>\n",
       "    </tr>\n",
       "  </tbody>\n",
       "</table>\n",
       "</div>"
      ],
      "text/plain": [
       "     Type_1_Bug  Type_1_Dark  Type_1_Dragon  Type_1_Electric  Type_1_Fairy  \\\n",
       "489           0            0              0                0             0   \n",
       "577           0            0              0                0             0   \n",
       "657           0            0              0                0             0   \n",
       "62            0            0              0                0             0   \n",
       "426           0            0              0                0             0   \n",
       "\n",
       "     Type_1_Fighting  Type_1_Fire  Type_1_Flying  Type_1_Ghost  Type_1_Grass  \\\n",
       "489                0            0              0             0             0   \n",
       "577                0            0              0             0             0   \n",
       "657                0            0              0             0             0   \n",
       "62                 0            0              0             0             0   \n",
       "426                0            0              0             0             0   \n",
       "\n",
       "     Type_1_Ground  Type_1_Ice  Type_1_Normal  Type_1_Poison  Type_1_Psychic  \\\n",
       "489              0           0              0              0               0   \n",
       "577              0           0              0              0               1   \n",
       "657              0           0              0              0               0   \n",
       "62               0           0              0              0               1   \n",
       "426              0           0              1              0               0   \n",
       "\n",
       "     Type_1_Rock  Type_1_Steel  Type_1_Water  \n",
       "489            0             0             1  \n",
       "577            0             0             0  \n",
       "657            0             0             1  \n",
       "62             0             0             0  \n",
       "426            0             0             0  "
      ]
     },
     "execution_count": 19,
     "metadata": {},
     "output_type": "execute_result"
    }
   ],
   "source": [
    "dummmiesSaida.sample(5)"
   ]
  },
  {
   "cell_type": "markdown",
   "metadata": {},
   "source": [
    "# Problema Classificando em Lendário"
   ]
  },
  {
   "cell_type": "code",
   "execution_count": 12,
   "metadata": {},
   "outputs": [
    {
     "data": {
      "text/html": [
       "<div>\n",
       "<style scoped>\n",
       "    .dataframe tbody tr th:only-of-type {\n",
       "        vertical-align: middle;\n",
       "    }\n",
       "\n",
       "    .dataframe tbody tr th {\n",
       "        vertical-align: top;\n",
       "    }\n",
       "\n",
       "    .dataframe thead th {\n",
       "        text-align: right;\n",
       "    }\n",
       "</style>\n",
       "<table border=\"1\" class=\"dataframe\">\n",
       "  <thead>\n",
       "    <tr style=\"text-align: right;\">\n",
       "      <th></th>\n",
       "      <th>Number</th>\n",
       "      <th>Total</th>\n",
       "      <th>isLegendary</th>\n",
       "    </tr>\n",
       "  </thead>\n",
       "  <tbody>\n",
       "    <tr>\n",
       "      <th>546</th>\n",
       "      <td>547</td>\n",
       "      <td>480</td>\n",
       "      <td>False</td>\n",
       "    </tr>\n",
       "    <tr>\n",
       "      <th>338</th>\n",
       "      <td>339</td>\n",
       "      <td>288</td>\n",
       "      <td>False</td>\n",
       "    </tr>\n",
       "    <tr>\n",
       "      <th>664</th>\n",
       "      <td>665</td>\n",
       "      <td>213</td>\n",
       "      <td>False</td>\n",
       "    </tr>\n",
       "    <tr>\n",
       "      <th>4</th>\n",
       "      <td>5</td>\n",
       "      <td>405</td>\n",
       "      <td>False</td>\n",
       "    </tr>\n",
       "    <tr>\n",
       "      <th>198</th>\n",
       "      <td>199</td>\n",
       "      <td>490</td>\n",
       "      <td>False</td>\n",
       "    </tr>\n",
       "    <tr>\n",
       "      <th>584</th>\n",
       "      <td>585</td>\n",
       "      <td>335</td>\n",
       "      <td>False</td>\n",
       "    </tr>\n",
       "    <tr>\n",
       "      <th>413</th>\n",
       "      <td>414</td>\n",
       "      <td>424</td>\n",
       "      <td>False</td>\n",
       "    </tr>\n",
       "    <tr>\n",
       "      <th>12</th>\n",
       "      <td>13</td>\n",
       "      <td>195</td>\n",
       "      <td>False</td>\n",
       "    </tr>\n",
       "    <tr>\n",
       "      <th>530</th>\n",
       "      <td>531</td>\n",
       "      <td>445</td>\n",
       "      <td>False</td>\n",
       "    </tr>\n",
       "    <tr>\n",
       "      <th>113</th>\n",
       "      <td>114</td>\n",
       "      <td>435</td>\n",
       "      <td>False</td>\n",
       "    </tr>\n",
       "  </tbody>\n",
       "</table>\n",
       "</div>"
      ],
      "text/plain": [
       "     Number  Total  isLegendary\n",
       "546     547    480        False\n",
       "338     339    288        False\n",
       "664     665    213        False\n",
       "4         5    405        False\n",
       "198     199    490        False\n",
       "584     585    335        False\n",
       "413     414    424        False\n",
       "12       13    195        False\n",
       "530     531    445        False\n",
       "113     114    435        False"
      ]
     },
     "execution_count": 12,
     "metadata": {},
     "output_type": "execute_result"
    }
   ],
   "source": [
    "data1 = dataset.loc[:,[\"Number\",\"Total\",\"isLegendary\"]]\n",
    "data1.sample(10)"
   ]
  },
  {
   "cell_type": "code",
   "execution_count": 25,
   "metadata": {},
   "outputs": [
    {
     "name": "stderr",
     "output_type": "stream",
     "text": [
      "C:\\Users\\Bruno\\Anaconda3\\lib\\site-packages\\matplotlib\\figure.py:2369: UserWarning: This figure includes Axes that are not compatible with tight_layout, so results might be incorrect.\n",
      "  warnings.warn(\"This figure includes Axes that are not compatible \"\n"
     ]
    },
    {
     "data": {
      "image/png": "[encoded data removed]",
      "text/plain": [
       "<Figure size 1152x576 with 1 Axes>"
      ]
     },
     "metadata": {},
     "output_type": "display_data"
    }
   ],
   "source": [
    "fig= plt.figure(figsize=(16,8))\n",
    "plt.plot(data1.loc[:,'isLegendary'],data1.loc[:,'Total'])\n",
    "\n",
    "plt.show()"
   ]
  },
  {
   "cell_type": "markdown",
   "metadata": {},
   "source": [
    "Percebemos uma clara relação entre os status e verificar se um pokémon é ou não lendário, no entanto temos alguns dados que podem nos confundir "
   ]
  },
  {
   "cell_type": "code",
   "execution_count": 13,
   "metadata": {},
   "outputs": [
    {
     "name": "stdout",
     "output_type": "stream",
     "text": [
      "Número de padrões: 721\n",
      "Número de atributos: 7\n",
      "Número de classes: 2\n"
     ]
    }
   ],
   "source": [
    "#Divisão entrada e saída \n",
    "\n",
    "x = dataset.loc[:,[\"Number\",\"HP\", \"Attack\", \"Defense\",\n",
    "       \"Sp_Atk\", \"Sp_Def\", \"Speed\"]].values\n",
    "\n",
    "y = dataset.loc[:,\"isLegendary\"].values\n",
    "\n",
    "train_ratio = 0.5\n",
    "validation_ratio = 0.5\n",
    "\n",
    "print(\"Número de padrões: %d\" % x.shape[0])\n",
    "print(\"Número de atributos: %d\" % x.shape[1])\n",
    "print(\"Número de classes: %d\" % np.unique(y).shape[0])"
   ]
  },
  {
   "cell_type": "code",
   "execution_count": 14,
   "metadata": {},
   "outputs": [
    {
     "name": "stdout",
     "output_type": "stream",
     "text": [
      "Número de padrões de treinamento: 362\n",
      "Número de padrões de teste: 359\n"
     ]
    }
   ],
   "source": [
    "#Divisão treino/teste\n",
    "np.random.seed(12345)\n",
    "\n",
    "number_train = int(np.ceil(train_ratio*(x.shape[0])))\n",
    "random_index = np.random.permutation(x.shape[0])\n",
    "train_index = random_index[:number_train+1]\n",
    "test_index = random_index[number_train+1:]\n",
    "\n",
    "x_train = x[train_index]\n",
    "x_test = x[test_index]\n",
    "y_train = y[train_index]\n",
    "y_test = y[test_index]\n",
    "\n",
    "print(\"Número de padrões de treinamento: %d\" % len(y_train))\n",
    "print(\"Número de padrões de teste: %d\" % len(y_test))"
   ]
  },
  {
   "cell_type": "markdown",
   "metadata": {},
   "source": []
  },
  {
   "cell_type": "code",
   "execution_count": 15,
   "metadata": {},
   "outputs": [
    {
     "name": "stdout",
     "output_type": "stream",
     "text": [
      "Conjunto de treinamento: 182 amostras\n",
      "Conjunto de validação: 180 amostras\n"
     ]
    }
   ],
   "source": [
    "#divisão validação e treinamento\n",
    "number_validation = int(np.ceil(validation_ratio*(x_train.shape[0])))\n",
    "number_train_validation = x_train.shape[0] - number_validation\n",
    "\n",
    "random_index = np.random.permutation(x_train.shape[0])\n",
    "train_index = random_index[:number_train_validation+1]\n",
    "validation_index = random_index[number_train_validation+1:number_train_validation+number_validation+1]\n",
    "\n",
    "x_train_validation, x_validation = x_train[train_index], x_train[validation_index]\n",
    "y_train_validation, y_validation = y_train[train_index], y_train[validation_index]\n",
    "\n",
    "print(\"Conjunto de treinamento: %d amostras\" % y_train_validation.shape[0])\n",
    "print(\"Conjunto de validação: %d amostras\" % y_validation.shape[0])"
   ]
  },
  {
   "cell_type": "code",
   "execution_count": 16,
   "metadata": {},
   "outputs": [],
   "source": [
    "#one_hot encoding\n",
    "y_train_encoding = np.zeros((y_train.shape[0], max(y)+1))\n",
    "for i in range(y_train_encoding.shape[0]):\n",
    "    y_train_encoding[i,y_train[i]] = 1\n",
    "y_train_validation_encoding = np.zeros((y_train_validation.shape[0], max(y)+1))\n",
    "for i in range(y_train_validation_encoding.shape[0]):\n",
    "    y_train_validation_encoding[i,y_train_validation[i]] = 1\n",
    "y_validation_encoding = np.zeros((y_validation.shape[0], max(y)+1))\n",
    "for i in range(y_validation_encoding.shape[0]):\n",
    "    y_validation_encoding[i,y_validation[i]] = 1\n",
    "y_test_encoding = np.zeros((y_test.shape[0], max(y)+1))\n",
    "for i in range(y_test_encoding.shape[0]):\n",
    "    y_test_encoding[i,y_test[i]] = 1"
   ]
  },
  {
   "cell_type": "code",
   "execution_count": 17,
   "metadata": {},
   "outputs": [
    {
     "data": {
      "text/plain": [
       "(362, 7)"
      ]
     },
     "execution_count": 17,
     "metadata": {},
     "output_type": "execute_result"
    }
   ],
   "source": [
    "x_train.shape"
   ]
  },
  {
   "cell_type": "code",
   "execution_count": 18,
   "metadata": {},
   "outputs": [
    {
     "data": {
      "text/plain": [
       "(362,)"
      ]
     },
     "execution_count": 18,
     "metadata": {},
     "output_type": "execute_result"
    }
   ],
   "source": [
    "y_train.shape"
   ]
  },
  {
   "cell_type": "code",
   "execution_count": 19,
   "metadata": {},
   "outputs": [
    {
     "data": {
      "text/plain": [
       "(180, 7)"
      ]
     },
     "execution_count": 19,
     "metadata": {},
     "output_type": "execute_result"
    }
   ],
   "source": [
    "x_validation.shape"
   ]
  },
  {
   "cell_type": "code",
   "execution_count": 20,
   "metadata": {},
   "outputs": [
    {
     "data": {
      "text/plain": [
       "(180,)"
      ]
     },
     "execution_count": 20,
     "metadata": {},
     "output_type": "execute_result"
    }
   ],
   "source": [
    "y_validation.shape"
   ]
  },
  {
   "cell_type": "code",
   "execution_count": 21,
   "metadata": {},
   "outputs": [
    {
     "name": "stdout",
     "output_type": "stream",
     "text": [
      "[LogisticRegression] Selecionando modelos...\n"
     ]
    },
    {
     "name": "stderr",
     "output_type": "stream",
     "text": [
      "C:\\Users\\Bruno\\Documents\\machine-learning\\Trabalho Final\\logistic_regression.py:14: RuntimeWarning: invalid value encountered in true_divide\n",
      "  return out / np.sum(out, axis=1)[:,None]\n"
     ]
    },
    {
     "name": "stdout",
     "output_type": "stream",
     "text": [
      "[LogisticRegression] Melhor modelo encontrado: alpha=1.00e-06\n"
     ]
    }
   ],
   "source": [
    "print(\"[LogisticRegression] Selecionando modelos...\")\n",
    "\n",
    "num_epochs = 2000\n",
    "grid_search = np.logspace(-6, 0, 25) # alpha\n",
    "validation_list = []\n",
    "for i in range(grid_search.shape[0]):\n",
    "    alpha = grid_search[i]\n",
    "    \n",
    "    model_logreg = logreg.gd(x=x_train_validation, y=y_train_validation_encoding,\n",
    "                              alpha=alpha, num_epochs=num_epochs, compute_loss=False)\n",
    "    #print(x_validation.shape)\n",
    "    pred = np.argmax(logreg.predict(model_logreg['w'], x_validation), axis=1)\n",
    "    wrong_index_validation = y_validation != pred\n",
    "    validation_list.append(np.mean(wrong_index_validation))\n",
    "   \n",
    "best_alpha = grid_search[np.argmin(validation_list)] \n",
    "\n",
    "print(\"[LogisticRegression] Melhor modelo encontrado: alpha=%.2e\" % (best_alpha))"
   ]
  },
  {
   "cell_type": "code",
   "execution_count": 22,
   "metadata": {},
   "outputs": [
    {
     "name": "stdout",
     "output_type": "stream",
     "text": [
      "[LogisticRegression] Treinando modelo...\n"
     ]
    },
    {
     "name": "stderr",
     "output_type": "stream",
     "text": [
      "C:\\Users\\Bruno\\Anaconda3\\lib\\site-packages\\matplotlib\\figure.py:2369: UserWarning: This figure includes Axes that are not compatible with tight_layout, so results might be incorrect.\n",
      "  warnings.warn(\"This figure includes Axes that are not compatible \"\n"
     ]
    },
    {
     "data": {
      "image/png": "[encoded data removed]",
      "text/plain": [
       "<Figure size 576x432 with 1 Axes>"
      ]
     },
     "metadata": {
      "needs_background": "light"
     },
     "output_type": "display_data"
    },
    {
     "name": "stdout",
     "output_type": "stream",
     "text": [
      "[LogisticRegression] Avaliando modelo...\n",
      "[LogisticRegression] Taxa de erro no teste: 7.80%\n"
     ]
    }
   ],
   "source": [
    "print(\"[LogisticRegression] Treinando modelo...\")\n",
    "model_logreg = logreg.gd(x=x_train, y=y_train_encoding, alpha=best_alpha, num_epochs=num_epochs, compute_loss=True)\n",
    "\n",
    "com.plot_loss_path(model_logreg['loss_history'], 'Função custo ao longo das iterações do GD')\n",
    "\n",
    "print(\"[LogisticRegression] Avaliando modelo...\")\n",
    "pred_logreg = np.argmax(logreg.predict(model_logreg['w'], x_test), axis=1)\n",
    "\n",
    "wrong_index_test_logreg = pred_logreg != y_test\n",
    "print(\"[LogisticRegression] Taxa de erro no teste: %.2f%%\" % (100*np.mean(wrong_index_test_logreg)))"
   ]
  },
  {
   "cell_type": "code",
   "execution_count": 23,
   "metadata": {},
   "outputs": [
    {
     "name": "stdout",
     "output_type": "stream",
     "text": [
      "[False  True]\n"
     ]
    }
   ],
   "source": [
    "label_names = np.unique(dataset.isLegendary)\n",
    "print(label_names)"
   ]
  },
  {
   "cell_type": "code",
   "execution_count": 24,
   "metadata": {},
   "outputs": [
    {
     "name": "stdout",
     "output_type": "stream",
     "text": [
      "Confusion matrix - Logistc Regression\n",
      "[[331   0]\n",
      " [ 28   0]]\n"
     ]
    },
    {
     "name": "stderr",
     "output_type": "stream",
     "text": [
      "C:\\Users\\Bruno\\Anaconda3\\lib\\site-packages\\matplotlib\\figure.py:2369: UserWarning: This figure includes Axes that are not compatible with tight_layout, so results might be incorrect.\n",
      "  warnings.warn(\"This figure includes Axes that are not compatible \"\n"
     ]
    },
    {
     "data": {
      "image/png": "[encoded data removed]",
      "text/plain": [
       "<Figure size 576x432 with 2 Axes>"
      ]
     },
     "metadata": {
      "needs_background": "light"
     },
     "output_type": "display_data"
    }
   ],
   "source": [
    "com.plot_confusion_matrix(y_test, y_pred=pred_logreg, classes=label_names,\n",
    "                          title=\"Confusion matrix - Logistc Regression\")\n",
    "plt.show()"
   ]
  },
  {
   "cell_type": "code",
   "execution_count": 25,
   "metadata": {},
   "outputs": [
    {
     "name": "stdout",
     "output_type": "stream",
     "text": [
      "[KNN] Selecionando modelos...\n",
      "[KNN] Melhor modelo encontrado: K=3, 'distance_metric'=euclidean\n"
     ]
    }
   ],
   "source": [
    "print(\"[KNN] Selecionando modelos...\")\n",
    "\n",
    "grid_search = np.meshgrid(np.arange(1, 26, 2), # k\n",
    "                          ['euclidean', 'manhattan', 'mahalanobis']) # distance metric\n",
    "validation_list = []\n",
    "validation_list_index = []\n",
    "for i in range(grid_search[0].shape[0]):\n",
    "    for j in range(grid_search[1].shape[1]):\n",
    "        k = grid_search[0][i,j]\n",
    "        distance_metric = grid_search[1][i,j]   \n",
    "        \n",
    "        wrong_index_validation = y_validation != knn.predict_class(x=x_train_validation, y=y_train_validation,\n",
    "                                                                   x_new=x_validation,\n",
    "                                                                   k=k, distance_metric=distance_metric)\n",
    "        validation_list.append(np.mean(wrong_index_validation))\n",
    "        validation_list_index.append((i,j))\n",
    "   \n",
    "best_i, best_j = validation_list_index[np.argmin(validation_list)]   \n",
    "best_k = grid_search[0][best_i, best_j]\n",
    "best_distance_metric = grid_search[1][best_i, best_j]\n",
    "\n",
    "print(\"[KNN] Melhor modelo encontrado: K=%d, 'distance_metric'=%s\" % (best_k, best_distance_metric))"
   ]
  },
  {
   "cell_type": "code",
   "execution_count": 26,
   "metadata": {},
   "outputs": [
    {
     "name": "stdout",
     "output_type": "stream",
     "text": [
      "[KNN] Avaliando modelo...\n",
      "[KNN] Taxa de erro no teste: 5.57%\n"
     ]
    }
   ],
   "source": [
    "print(\"[KNN] Avaliando modelo...\")\n",
    "pred_knn = knn.predict_class(x_train, y_train, x_test, k=best_k, distance_metric=best_distance_metric)\n",
    "\n",
    "wrong_index_test_knn = pred_knn != y_test\n",
    "print(\"[KNN] Taxa de erro no teste: %.2f%%\" % (100*np.mean(wrong_index_test_knn)))"
   ]
  },
  {
   "cell_type": "code",
   "execution_count": 27,
   "metadata": {},
   "outputs": [
    {
     "name": "stdout",
     "output_type": "stream",
     "text": [
      "[DecisionTree] Selecionando modelos...\n",
      "[DecisionTree] Melhor modelo encontrado: 'criterion'=gini, max_depth=2, min_samples_leaf=1\n"
     ]
    }
   ],
   "source": [
    "print(\"[DecisionTree] Selecionando modelos...\")\n",
    "\n",
    "grid_search = np.meshgrid(['gini', 'entropy'], # criterion\n",
    "                          np.arange(2, 16, 1), # max_depth\n",
    "                          np.arange(1, 21, 2)) # min_samples_leaf\n",
    "validation_list = []\n",
    "validation_list_index = []\n",
    "for i in range(grid_search[0].shape[0]):\n",
    "    for j in range(grid_search[1].shape[1]):\n",
    "        for k in range(grid_search[2].shape[2]):\n",
    "            criterion = grid_search[0][i,j,k]\n",
    "            max_depth = grid_search[1][i,j,k]   \n",
    "            min_samples_leaf = grid_search[2][i,j,k]   \n",
    "\n",
    "            model_tree = DecisionTreeClassifier(criterion=criterion, max_depth=max_depth,\n",
    "                                                min_samples_leaf=min_samples_leaf,\n",
    "                                                presort=True, random_state=1)\n",
    "            model_tree.fit(x_train_validation, y_train_validation)\n",
    "            \n",
    "            wrong_index_validation = y_validation != model_tree.predict(x_validation)\n",
    "            validation_list.append(np.mean(wrong_index_validation))\n",
    "            validation_list_index.append((i,j,k))\n",
    "   \n",
    "best_i, best_j, best_k = validation_list_index[np.argmin(validation_list)]   \n",
    "best_criterion = grid_search[0][best_i, best_j, best_k]\n",
    "best_max_depth = grid_search[1][best_i, best_j, best_k]\n",
    "best_min_samples_leaf = grid_search[2][best_i, best_j, best_k]\n",
    "\n",
    "print(\"[DecisionTree] Melhor modelo encontrado: 'criterion'=%s, max_depth=%d, min_samples_leaf=%d\" \n",
    "      % (best_criterion, best_max_depth, best_min_samples_leaf))"
   ]
  },
  {
   "cell_type": "code",
   "execution_count": 28,
   "metadata": {},
   "outputs": [
    {
     "name": "stdout",
     "output_type": "stream",
     "text": [
      "[DecisionTree] Treinando modelo...\n",
      "[DecisionTree] Avaliando modelo...\n",
      "[DecisionTree] Taxa de erro no teste: 6.69%\n"
     ]
    }
   ],
   "source": [
    "print(\"[DecisionTree] Treinando modelo...\")\n",
    "model_tree = DecisionTreeClassifier(criterion=best_criterion, max_depth=best_max_depth, \n",
    "                                    min_samples_leaf=best_min_samples_leaf,\n",
    "                                    presort=True, random_state=1)\n",
    "\n",
    "model_tree.fit(x_train, y_train)\n",
    "\n",
    "print(\"[DecisionTree] Avaliando modelo...\")\n",
    "pred_tree = model_tree.predict(x_test)\n",
    "\n",
    "wrong_index_test_tree = pred_tree != y_test\n",
    "print(\"[DecisionTree] Taxa de erro no teste: %.2f%%\" % (100*np.mean(wrong_index_test_tree)))"
   ]
  },
  {
   "cell_type": "code",
   "execution_count": 29,
   "metadata": {},
   "outputs": [
    {
     "name": "stdout",
     "output_type": "stream",
     "text": [
      "Confusion matrix - KNN\n",
      "[[329   2]\n",
      " [ 18  10]]\n"
     ]
    },
    {
     "name": "stderr",
     "output_type": "stream",
     "text": [
      "C:\\Users\\Bruno\\Anaconda3\\lib\\site-packages\\matplotlib\\figure.py:2369: UserWarning: This figure includes Axes that are not compatible with tight_layout, so results might be incorrect.\n",
      "  warnings.warn(\"This figure includes Axes that are not compatible \"\n"
     ]
    },
    {
     "data": {
      "image/png": "[encoded data removed]",
      "text/plain": [
       "<Figure size 576x432 with 2 Axes>"
      ]
     },
     "metadata": {
      "needs_background": "light"
     },
     "output_type": "display_data"
    }
   ],
   "source": [
    "com.plot_confusion_matrix(y_test, y_pred=pred_knn, classes=label_names,\n",
    "                          title=\"Confusion matrix - KNN\")\n",
    "plt.show()"
   ]
  },
  {
   "cell_type": "code",
   "execution_count": 30,
   "metadata": {},
   "outputs": [
    {
     "name": "stdout",
     "output_type": "stream",
     "text": [
      "Confusion matrix - Decision Tree\n",
      "[[330   1]\n",
      " [ 23   5]]\n"
     ]
    },
    {
     "name": "stderr",
     "output_type": "stream",
     "text": [
      "C:\\Users\\Bruno\\Anaconda3\\lib\\site-packages\\matplotlib\\figure.py:2369: UserWarning: This figure includes Axes that are not compatible with tight_layout, so results might be incorrect.\n",
      "  warnings.warn(\"This figure includes Axes that are not compatible \"\n"
     ]
    },
    {
     "data": {
      "image/png": "[encoded data removed]",
      "text/plain": [
       "<Figure size 576x432 with 2 Axes>"
      ]
     },
     "metadata": {
      "needs_background": "light"
     },
     "output_type": "display_data"
    }
   ],
   "source": [
    "com.plot_confusion_matrix(y_test, y_pred=pred_tree, classes=label_names,\n",
    "                          title=\"Confusion matrix - Decision Tree\")\n",
    "plt.show()"
   ]
  },
  {
   "cell_type": "markdown",
   "metadata": {},
   "source": [
    "# Predição do Tipo do Pokémon baseado nas suas características"
   ]
  },
  {
   "cell_type": "code",
   "execution_count": 28,
   "metadata": {},
   "outputs": [
    {
     "name": "stdout",
     "output_type": "stream",
     "text": [
      "Número de padrões: 721\n",
      "Número de atributos: 24\n",
      "Número de classes: 18\n"
     ]
    }
   ],
   "source": [
    "#Divisão entrada e saída \n",
    "\n",
    "x = dummiesEntradas.values\n",
    "\n",
    "y_1 = dataset.loc[:,\"Type_1\"].values\n",
    "label_names = np.unique(y_1)\n",
    "y = np.zeros(y_1.shape, dtype=int)\n",
    "for k, k_label in enumerate(label_names):\n",
    "    y[y_1 == k_label] = k\n",
    "\n",
    "train_ratio = 0.6\n",
    "validation_ratio = 0.4\n",
    "\n",
    "print(\"Número de padrões: %d\" % x.shape[0])\n",
    "print(\"Número de atributos: %d\" % x.shape[1])\n",
    "print(\"Número de classes: %d\" % np.unique(y_1).shape[0])\n",
    "#print(y)"
   ]
  },
  {
   "cell_type": "code",
   "execution_count": 29,
   "metadata": {},
   "outputs": [
    {
     "data": {
      "text/plain": [
       "(721,)"
      ]
     },
     "execution_count": 29,
     "metadata": {},
     "output_type": "execute_result"
    }
   ],
   "source": [
    "y.shape"
   ]
  },
  {
   "cell_type": "code",
   "execution_count": 30,
   "metadata": {},
   "outputs": [
    {
     "data": {
      "text/plain": [
       "(721, 24)"
      ]
     },
     "execution_count": 30,
     "metadata": {},
     "output_type": "execute_result"
    }
   ],
   "source": [
    "x.shape"
   ]
  },
  {
   "cell_type": "code",
   "execution_count": 31,
   "metadata": {},
   "outputs": [
    {
     "name": "stdout",
     "output_type": "stream",
     "text": [
      "Número de padrões de treinamento: 434\n",
      "Número de padrões de teste: 287\n"
     ]
    }
   ],
   "source": [
    "np.random.seed(12345)\n",
    "\n",
    "number_train = int(np.ceil(train_ratio*(x.shape[0])))\n",
    "random_index = np.random.permutation(x.shape[0])\n",
    "train_index = random_index[:number_train+1]\n",
    "test_index = random_index[number_train+1:]\n",
    "\n",
    "x_train = x[train_index]\n",
    "x_test = x[test_index]\n",
    "y_train = y[train_index]\n",
    "y_test = y[test_index]\n",
    "\n",
    "print(\"Número de padrões de treinamento: %d\" % len(y_train))\n",
    "print(\"Número de padrões de teste: %d\" % len(y_test))"
   ]
  },
  {
   "cell_type": "code",
   "execution_count": 32,
   "metadata": {},
   "outputs": [
    {
     "name": "stdout",
     "output_type": "stream",
     "text": [
      "Conjunto de treinamento: 261 amostras\n",
      "Conjunto de validação: 173 amostras\n"
     ]
    }
   ],
   "source": [
    "number_validation = int(np.ceil(validation_ratio*(x_train.shape[0])))\n",
    "number_train_validation = x_train.shape[0] - number_validation\n",
    "\n",
    "random_index = np.random.permutation(x_train.shape[0])\n",
    "train_index = random_index[:number_train_validation+1]\n",
    "validation_index = random_index[number_train_validation+1:number_train_validation+number_validation+1]\n",
    "\n",
    "x_train_validation, x_validation = x_train[train_index], x_train[validation_index]\n",
    "y_train_validation, y_validation = y_train[train_index], y_train[validation_index]\n",
    "\n",
    "print(\"Conjunto de treinamento: %d amostras\" % y_train_validation.shape[0])\n",
    "print(\"Conjunto de validação: %d amostras\" % y_validation.shape[0])"
   ]
  },
  {
   "cell_type": "code",
   "execution_count": 16,
   "metadata": {},
   "outputs": [
    {
     "data": {
      "text/plain": [
       "array([13, 14, 14, 10,  1, 10, 17, 10,  4, 13, 13, 13,  1, 15, 11,  5,  2,\n",
       "        0,  8,  5, 12, 12, 16,  6, 12,  2, 16,  3,  9, 10,  3, 13, 12, 14,\n",
       "        0,  6, 17,  9, 16, 15, 12,  9, 17, 11, 13,  1,  1,  0, 14, 12, 14,\n",
       "       14,  6, 12,  6,  3, 11, 13,  0, 17, 15, 17,  0,  9, 17, 12, 15,  3,\n",
       "       17,  3,  3, 17,  2,  1, 12, 12, 12,  1,  0, 10, 10, 14,  5,  6,  9,\n",
       "       12, 17,  2,  3, 17, 17, 11,  3,  0, 12,  2,  5, 12,  6, 13,  9,  9,\n",
       "        3,  9, 13, 14,  8,  9,  0, 16,  9,  6, 17,  0, 17, 15, 12, 12,  6,\n",
       "       17,  0, 12, 17, 12,  0, 12, 17,  4, 12, 16,  7,  8,  9,  9, 17, 10,\n",
       "        5, 10,  0, 10,  9,  6,  9,  6, 10, 13,  9, 15,  8, 14, 17,  9,  5,\n",
       "        9,  6,  5,  3, 17, 17,  8, 10, 14,  5, 16,  0,  0, 17, 14,  1, 12,\n",
       "       12,  2,  2,  6, 17,  9,  0,  0,  3, 16,  3, 11, 15, 12, 12, 12, 17,\n",
       "        1, 16, 10, 14,  5, 17, 17,  5, 17,  0, 17,  0, 13, 17, 17,  4,  0,\n",
       "       12, 15, 10, 12, 17, 12, 16, 17, 17, 17, 11,  0,  0, 13, 17,  3,  3,\n",
       "        9,  0,  8, 15, 15,  9, 14,  9, 17,  3, 17,  1, 15,  2, 17, 17, 17,\n",
       "       15, 12, 17,  3, 15,  9, 17, 13,  8, 12, 15,  9, 15, 12, 16,  3,  3,\n",
       "        5, 14,  5, 13,  2, 13,  2, 15, 17,  0,  8,  1,  0,  0,  0,  3,  1,\n",
       "       12,  3,  9, 15, 17, 17, 12, 12,  8, 17, 10, 17, 12,  5,  9,  6, 12,\n",
       "       17, 12, 14, 17,  0, 14,  9, 12, 15, 14,  9, 12,  2,  9, 17, 11,  3,\n",
       "       17,  0,  0,  0,  6,  1,  9,  0,  9,  0,  9, 15, 17,  0,  0, 15, 12,\n",
       "        4, 12, 17,  2,  9, 11, 17,  2, 15, 15, 10,  1, 13,  9, 14, 13, 14,\n",
       "       17, 10,  9,  8,  0, 11, 17, 12, 11, 15,  3, 16,  2, 12, 15,  2, 17,\n",
       "       14,  4, 16, 10, 15, 15, 14, 12,  0, 14,  6, 13,  6,  5,  0,  6,  6,\n",
       "       14, 12,  6,  6,  9,  5, 14,  0, 11, 17, 16, 12, 12, 12,  1,  3,  0,\n",
       "       15, 12, 12, 12, 14, 13,  9,  0, 12,  0,  0,  6,  9, 12,  0, 17, 13,\n",
       "       15,  8, 13,  2, 14,  6, 17,  6, 12, 17,  6, 12, 12,  4, 10, 13,  9,\n",
       "        2,  6, 16,  9,  8, 10,  0,  3,  4, 12, 17, 17,  0, 17, 11,  5, 12,\n",
       "        5, 17, 12,  4, 11,  9,  3, 17,  8,  1, 17, 12, 14, 17, 10, 10, 12,\n",
       "       12, 16, 15, 12])"
      ]
     },
     "execution_count": 16,
     "metadata": {},
     "output_type": "execute_result"
    }
   ],
   "source": [
    "y_train_validation"
   ]
  },
  {
   "cell_type": "code",
   "execution_count": 17,
   "metadata": {},
   "outputs": [
    {
     "data": {
      "text/plain": [
       "array([[0, 0, 0, ..., 0, 0, 0],\n",
       "       [1, 0, 0, ..., 0, 0, 0],\n",
       "       [0, 0, 0, ..., 0, 0, 0],\n",
       "       ...,\n",
       "       [0, 0, 0, ..., 0, 0, 0],\n",
       "       [0, 0, 0, ..., 0, 0, 0],\n",
       "       [0, 0, 0, ..., 1, 0, 0]], dtype=uint8)"
      ]
     },
     "execution_count": 17,
     "metadata": {},
     "output_type": "execute_result"
    }
   ],
   "source": [
    "x_train_validation"
   ]
  },
  {
   "cell_type": "code",
   "execution_count": 33,
   "metadata": {},
   "outputs": [],
   "source": [
    "y_train_encoding = np.zeros((y_train.shape[0], max(y)+1))\n",
    "for i in range(y_train_encoding.shape[0]):\n",
    "    y_train_encoding[i,y_train[i]] = 1\n",
    "y_train_validation_encoding = np.zeros((y_train_validation.shape[0], max(y)+1))\n",
    "for i in range(y_train_validation_encoding.shape[0]):\n",
    "    y_train_validation_encoding[i,y_train_validation[i]] = 1\n",
    "y_validation_encoding = np.zeros((y_validation.shape[0], max(y)+1))\n",
    "for i in range(y_validation_encoding.shape[0]):\n",
    "    y_validation_encoding[i,y_validation[i]] = 1\n",
    "y_test_encoding = np.zeros((y_test.shape[0], max(y)+1))\n",
    "for i in range(y_test_encoding.shape[0]):\n",
    "    y_test_encoding[i,y_test[i]] = 1"
   ]
  },
  {
   "cell_type": "code",
   "execution_count": 19,
   "metadata": {},
   "outputs": [
    {
     "data": {
      "text/plain": [
       "array([[0., 0., 0., ..., 0., 0., 1.],\n",
       "       [0., 0., 0., ..., 0., 0., 1.],\n",
       "       [1., 0., 0., ..., 0., 0., 0.],\n",
       "       ...,\n",
       "       [0., 0., 0., ..., 0., 0., 0.],\n",
       "       [0., 0., 0., ..., 0., 0., 0.],\n",
       "       [0., 0., 0., ..., 0., 0., 0.]])"
      ]
     },
     "execution_count": 19,
     "metadata": {},
     "output_type": "execute_result"
    }
   ],
   "source": [
    "y_train_encoding"
   ]
  },
  {
   "cell_type": "code",
   "execution_count": 20,
   "metadata": {},
   "outputs": [
    {
     "name": "stdout",
     "output_type": "stream",
     "text": [
      "[DecisionTree] Selecionando modelos...\n",
      "[DecisionTree] Melhor modelo encontrado: 'criterion'=gini, max_depth=14, min_samples_leaf=7\n"
     ]
    }
   ],
   "source": [
    "print(\"[DecisionTree] Selecionando modelos...\")\n",
    "\n",
    "grid_search = np.meshgrid(['gini', 'entropy'], # criterion\n",
    "                          np.arange(2, 16, 1), # max_depth\n",
    "                          np.arange(1, 21, 2)) # min_samples_leaf\n",
    "validation_list = []\n",
    "validation_list_index = []\n",
    "for i in range(grid_search[0].shape[0]):\n",
    "    for j in range(grid_search[1].shape[1]):\n",
    "        for k in range(grid_search[2].shape[2]):\n",
    "            criterion = grid_search[0][i,j,k]\n",
    "            max_depth = grid_search[1][i,j,k]   \n",
    "            min_samples_leaf = grid_search[2][i,j,k]   \n",
    "\n",
    "            model_tree = DecisionTreeClassifier(criterion=criterion, max_depth=max_depth,\n",
    "                                                min_samples_leaf=min_samples_leaf,\n",
    "                                                presort=True, random_state=1)\n",
    "            model_tree.fit(x_train_validation, y_train_validation)\n",
    "            \n",
    "            wrong_index_validation = y_validation != model_tree.predict(x_validation)\n",
    "            validation_list.append(np.mean(wrong_index_validation))\n",
    "            validation_list_index.append((i,j,k))\n",
    "   \n",
    "best_i, best_j, best_k = validation_list_index[np.argmin(validation_list)]   \n",
    "best_criterion = grid_search[0][best_i, best_j, best_k]\n",
    "best_max_depth = grid_search[1][best_i, best_j, best_k]\n",
    "best_min_samples_leaf = grid_search[2][best_i, best_j, best_k]\n",
    "\n",
    "print(\"[DecisionTree] Melhor modelo encontrado: 'criterion'=%s, max_depth=%d, min_samples_leaf=%d\" \n",
    "      % (best_criterion, best_max_depth, best_min_samples_leaf))"
   ]
  },
  {
   "cell_type": "code",
   "execution_count": 21,
   "metadata": {},
   "outputs": [
    {
     "name": "stdout",
     "output_type": "stream",
     "text": [
      "[DecisionTree] Treinando modelo...\n",
      "[DecisionTree] Avaliando modelo...\n",
      "[DecisionTree] Taxa de erro no teste: 69.23%\n"
     ]
    }
   ],
   "source": [
    "print(\"[DecisionTree] Treinando modelo...\")\n",
    "model_tree = DecisionTreeClassifier(criterion=best_criterion, max_depth=best_max_depth, \n",
    "                                    min_samples_leaf=best_min_samples_leaf,\n",
    "                                    presort=True, random_state=1)\n",
    "\n",
    "model_tree.fit(x_train, y_train)\n",
    "\n",
    "print(\"[DecisionTree] Avaliando modelo...\")\n",
    "pred_tree = model_tree.predict(x_test)\n",
    "\n",
    "wrong_index_test_tree = pred_tree != y_test\n",
    "print(\"[DecisionTree] Taxa de erro no teste: %.2f%%\" % (100*np.mean(wrong_index_test_tree)))"
   ]
  },
  {
   "cell_type": "code",
   "execution_count": 26,
   "metadata": {},
   "outputs": [
    {
     "name": "stdout",
     "output_type": "stream",
     "text": [
      "Confusion matrix - Decision Tree\n",
      "[[ 5  0  0  0  0  0  1  0  1  0  0  0  0  0  1  1  0  0]\n",
      " [ 0  0  0  0  0  0  0  0  3  0  0  0  2  1  0  0  0  0]\n",
      " [ 0  0  0  1  0  0  0  0  0  1  1  0  1  0  0  0  0  1]\n",
      " [ 1  0  0  2  0  0  0  0  0  0  0  0  2  0  0  0  0  1]\n",
      " [ 0  0  0  0  0  0  0  0  0  0  0  3  4  0  0  0  0  0]\n",
      " [ 0  2  0  0  1  0  0  0  0  0  0  0  1  0  0  1  0  0]\n",
      " [ 1  0  0  0  0  0  5  0  0  0  0  0  8  0  0  0  0  0]\n",
      " [ 0  0  0  0  0  0  0  0  0  0  0  0  0  0  0  0  0  0]\n",
      " [ 0  0  0  0  0  0  0  0  3  0  0  0  0  3  0  0  0  0]\n",
      " [ 2  0  0  0  0  0  0  0  0  6  0  2  3  0  0  0  0  1]\n",
      " [ 0  0  0  0  0  0  1  0  0  0  0  0  2  0  0  0  0  0]\n",
      " [ 1  0  0  0  0  0  0  0  0  0  0  0  2  0  0  0  0  1]\n",
      " [ 1  0  0  1  1  0  1  0  0  0  1  0  6  0  0  1  0  3]\n",
      " [ 1  0  0  0  0  0  0  0  1  0  0  0  0  2  0  0  0  1]\n",
      " [ 3  0  0  0  1  0  0  0  0  0  0  0  2  2  1  0  0  1]\n",
      " [ 1  0  0  0  0  0  1  0  0  1  0  0  2  1  0  0  0  1]\n",
      " [ 1  0  0  1  0  0  0  0  1  0  1  0  0  0  0  0  0  1]\n",
      " [ 2  0  0  1  0  0  1  1  0  1  0  2  0  0  0  0  0 14]]\n"
     ]
    },
    {
     "data": {
      "text/plain": [
       "<Figure size 1152x576 with 0 Axes>"
      ]
     },
     "metadata": {},
     "output_type": "display_data"
    },
    {
     "name": "stderr",
     "output_type": "stream",
     "text": [
      "C:\\Users\\Bruno\\Anaconda3\\lib\\site-packages\\matplotlib\\figure.py:2369: UserWarning: This figure includes Axes that are not compatible with tight_layout, so results might be incorrect.\n",
      "  warnings.warn(\"This figure includes Axes that are not compatible \"\n"
     ]
    },
    {
     "data": {
      "image/png": "[encoded data removed]",
      "text/plain": [
       "<Figure size 576x432 with 2 Axes>"
      ]
     },
     "metadata": {
      "needs_background": "light"
     },
     "output_type": "display_data"
    }
   ],
   "source": [
    "fig= plt.figure(figsize=(16,8))\n",
    "com.plot_confusion_matrix(y_test, y_pred=pred_tree, classes=label_names,\n",
    "                          title=\"Confusion matrix - Decision Tree\")\n",
    "plt.show()"
   ]
  },
  {
   "cell_type": "code",
   "execution_count": 23,
   "metadata": {},
   "outputs": [
    {
     "name": "stdout",
     "output_type": "stream",
     "text": [
      "[KNN] Selecionando modelos...\n",
      "[KNN] Melhor modelo encontrado: K=7, 'distance_metric'=mahalanobis\n"
     ]
    }
   ],
   "source": [
    "print(\"[KNN] Selecionando modelos...\")\n",
    "\n",
    "grid_search = np.meshgrid(np.arange(1, 26, 2), # k\n",
    "                          ['euclidean', 'manhattan', 'mahalanobis']) # distance metric\n",
    "validation_list = []\n",
    "validation_list_index = []\n",
    "for i in range(grid_search[0].shape[0]):\n",
    "    for j in range(grid_search[1].shape[1]):\n",
    "        k = grid_search[0][i,j]\n",
    "        distance_metric = grid_search[1][i,j]   \n",
    "        \n",
    "        wrong_index_validation = y_validation != knn.predict_class(x=x_train_validation, y=y_train_validation,\n",
    "                                                                   x_new=x_validation,\n",
    "                                                                   k=k, distance_metric=distance_metric)\n",
    "        validation_list.append(np.mean(wrong_index_validation))\n",
    "        validation_list_index.append((i,j))\n",
    "   \n",
    "best_i, best_j = validation_list_index[np.argmin(validation_list)]   \n",
    "best_k = grid_search[0][best_i, best_j]\n",
    "best_distance_metric = grid_search[1][best_i, best_j]\n",
    "\n",
    "print(\"[KNN] Melhor modelo encontrado: K=%d, 'distance_metric'=%s\" % (best_k, best_distance_metric))"
   ]
  },
  {
   "cell_type": "code",
   "execution_count": 24,
   "metadata": {},
   "outputs": [
    {
     "name": "stdout",
     "output_type": "stream",
     "text": [
      "[KNN] Avaliando modelo...\n",
      "[KNN] Taxa de erro no teste: 67.13%\n"
     ]
    }
   ],
   "source": [
    "print(\"[KNN] Avaliando modelo...\")\n",
    "pred_knn = knn.predict_class(x_train, y_train, x_test, k=best_k, distance_metric=best_distance_metric)\n",
    "\n",
    "wrong_index_test_knn = pred_knn != y_test\n",
    "print(\"[KNN] Taxa de erro no teste: %.2f%%\" % (100*np.mean(wrong_index_test_knn)))"
   ]
  },
  {
   "cell_type": "code",
   "execution_count": 27,
   "metadata": {},
   "outputs": [
    {
     "name": "stdout",
     "output_type": "stream",
     "text": [
      "Confusion matrix - KNN\n",
      "[[5 0 1 0 0 1 0 0 1 0 0 0 0 0 1 0 0 0]\n",
      " [1 3 0 0 0 0 0 0 0 0 0 0 2 0 0 0 0 0]\n",
      " [0 0 1 0 0 0 0 0 0 1 1 0 2 0 0 0 0 0]\n",
      " [0 0 0 3 0 0 0 0 0 0 0 0 1 0 0 0 1 1]\n",
      " [0 0 0 2 0 0 0 0 0 1 0 0 4 0 0 0 0 0]\n",
      " [0 2 0 0 1 1 0 0 0 0 0 0 1 0 0 0 0 0]\n",
      " [1 0 0 4 0 0 5 0 0 0 0 0 4 0 0 0 0 0]\n",
      " [0 0 0 0 0 0 0 0 0 0 0 0 0 0 0 0 0 0]\n",
      " [0 1 0 0 0 0 0 0 2 0 0 0 0 2 0 0 0 1]\n",
      " [0 0 0 0 0 1 0 0 0 9 0 0 3 0 0 0 1 0]\n",
      " [0 0 0 0 0 0 1 0 0 0 0 0 2 0 0 0 0 0]\n",
      " [1 0 0 0 0 0 0 0 0 1 0 0 2 0 0 0 0 0]\n",
      " [0 0 0 0 1 1 0 0 0 3 0 0 8 0 0 0 0 2]\n",
      " [1 1 1 0 0 0 0 0 1 0 0 0 0 0 0 0 0 1]\n",
      " [2 0 0 0 1 0 0 0 0 2 1 0 3 0 1 0 0 0]\n",
      " [1 0 0 1 0 0 0 0 0 1 0 0 2 0 0 1 0 1]\n",
      " [0 1 0 0 0 0 0 0 0 0 1 0 2 0 0 1 0 0]\n",
      " [2 0 1 0 0 3 0 1 0 2 0 0 1 0 0 3 1 8]]\n"
     ]
    },
    {
     "data": {
      "text/plain": [
       "<Figure size 1152x576 with 0 Axes>"
      ]
     },
     "metadata": {},
     "output_type": "display_data"
    },
    {
     "name": "stderr",
     "output_type": "stream",
     "text": [
      "C:\\Users\\Bruno\\Anaconda3\\lib\\site-packages\\matplotlib\\figure.py:2369: UserWarning: This figure includes Axes that are not compatible with tight_layout, so results might be incorrect.\n",
      "  warnings.warn(\"This figure includes Axes that are not compatible \"\n"
     ]
    },
    {
     "data": {
      "image/png": "[encoded data removed]",
      "text/plain": [
       "<Figure size 576x432 with 2 Axes>"
      ]
     },
     "metadata": {
      "needs_background": "light"
     },
     "output_type": "display_data"
    }
   ],
   "source": [
    "fig= plt.figure(figsize=(16,8))\n",
    "com.plot_confusion_matrix(y_test, y_pred=pred_knn, classes=label_names,\n",
    "                          title=\"Confusion matrix - KNN\")\n",
    "plt.show()"
   ]
  },
  {
   "cell_type": "code",
   "execution_count": null,
   "metadata": {},
   "outputs": [],
   "source": []
  }
 ],
 "metadata": {
  "kernelspec": {
   "display_name": "Python 3",
   "language": "python",
   "name": "python3"
  },
  "language_info": {
   "codemirror_mode": {
    "name": "ipython",
    "version": 3
   },
   "file_extension": ".py",
   "mimetype": "text/x-python",
   "name": "python",
   "nbconvert_exporter": "python",
   "pygments_lexer": "ipython3",
   "version": "3.7.3"
  }
 },
 "nbformat": 4,
 "nbformat_minor": 2
}
